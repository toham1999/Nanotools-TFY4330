{
 "cells": [
  {
   "cell_type": "markdown",
   "id": "d911a1bd-39db-4acf-8342-d87f9e75d451",
   "metadata": {},
   "source": [
    "# Prosessering av Energy Dispersive X-ray Spectroscopy data\n",
    "\n",
    "Denne Jupyter Notebooken viser hvordan Energy Dispersive X-ray Spectroscopy (EDS) data kan analyseres. Spektroskopi er en veldig viktig datatype \"klasse\", som dukker opp i mange forskjellige teknikker.\n",
    "\n",
    "### Målet med denne notebooken\n",
    "\n",
    "- Dere skal kunne prosessere EDS dataene dere tok opp i SEM-laben\n",
    "- Bli komfortable med å jobbe med spektroskopidata\n",
    "- Lage figur som viser kjemisk komposisjon i dataene deres\n",
    "\n",
    "### Notebook-planen\n",
    "\n",
    "- Åpne datasettet, og utforske det\n",
    "- Finne ut hvilke grunnstoffer som er i prøvematerialet\n",
    "- Lage figur av dette\n",
    "\n",
    "### Installere exspy\n",
    "\n",
    "For denne dataøvingen må dere også installere `exspy`, som er et python bibliotek for å analysere spektroskopi-data. Dette må gjøres i virtual environment `pyxem_2024`, i MiniForge:\n",
    "\n",
    "- `conda install exspy`\n",
    "\n",
    "De som ikke bruker MiniForge, MiniConda eller Anaconda, kan installere via PyPi hvor pakken heter det samme."
   ]
  },
  {
   "cell_type": "markdown",
   "id": "cf9834e4-347d-49e9-9478-2fe68ca26eb0",
   "metadata": {},
   "source": [
    "## Importere biblioteker\n",
    "\n",
    "Først, plotte-biblioteket. Dette kan enten være `%matplotlib qt` for egne vinduer for plottene, eller `%matplotlib widget` for å få plottene i selve Jupyter Notebooken. Så importere HyperSpy"
   ]
  },
  {
   "cell_type": "code",
   "execution_count": 45,
   "id": "d807a1c0-328f-4179-8602-2d3580de0525",
   "metadata": {},
   "outputs": [],
   "source": [
    "%matplotlib qt\n",
    "import hyperspy.api as hs"
   ]
  },
  {
   "cell_type": "markdown",
   "id": "14b1f326-f075-4647-97ed-402164a4d769",
   "metadata": {},
   "source": [
    "## Åpne dataset\n",
    "\n",
    "Dette gjøres via `hs.load`, som kan åpne en rekke dataformater, spesielt innenfor elektronmikroskopi. EDS datasettene fra SEM laben er i en `.hspy` fil."
   ]
  },
  {
   "cell_type": "code",
   "execution_count": 46,
   "id": "4de4cafc-5ff5-46b4-9a8e-e494a040995b",
   "metadata": {},
   "outputs": [],
   "source": [
    "s = hs.load('EDS.hspy')"
   ]
  },
  {
   "cell_type": "markdown",
   "id": "2641c9f1-0e40-437e-9dec-de557b44cb68",
   "metadata": {},
   "source": [
    "Så kjør selve objektet `s` i en celle for å se på størrelse og dimensjoner."
   ]
  },
  {
   "cell_type": "code",
   "execution_count": 47,
   "id": "dc071c3e-4b73-48dd-8454-7a37bbc26392",
   "metadata": {},
   "outputs": [
    {
     "data": {
      "text/plain": [
       "<Signal1D, title: 5c_15kV_3p2nA, dimensions: (2048, 1408|1024)>"
      ]
     },
     "execution_count": 47,
     "metadata": {},
     "output_type": "execute_result"
    }
   ],
   "source": [
    "s"
   ]
  },
  {
   "cell_type": "code",
   "execution_count": 53,
   "id": "7593980f",
   "metadata": {},
   "outputs": [
    {
     "name": "stdout",
     "output_type": "stream",
     "text": [
      "<EDSSEMSpectrum, title: 5c_15kV_3p2nA, dimensions: (2048, 1408|1024)>\n"
     ]
    }
   ],
   "source": [
    "s.set_signal_type('EDS_SEM')     # For EDS in TEM mode, or use 'EDS_SEM' for SEM"
   ]
  },
  {
   "cell_type": "markdown",
   "id": "9d932c8a-f56e-4c1c-926d-3a6f88721251",
   "metadata": {},
   "source": [
    "Her ser vi et par viktige ting: signalet er et `EDSSEMSpectrum`, og den har 3 dimensjoner! \n",
    "    \n",
    "Dimensjonene ser vi helt i slutten, som har 3 tall (som nok vil være annerledes for deres datasett): `(1024, 704|2048)`. Tallene til venstre for `|` er navigasjonsdimensjonene, mens tallet til høyre for `|` er signaldimensjonen: `(NAVIGASJON 0, NAVIGASJON 1|SIGNAL 0)`.\n",
    "\n",
    "I denne datatypen, så er de 2 navigasjonsdimensjonene probe-posisjonen, og signaldimensjonen er energien til røntgenstrålene.\n",
    "\n",
    "Dette betyr at signaldimensjonen er 1-dimensjonal, som stemmer bra med at dette er spektroskopisk data.\n",
    "\n",
    "Av spesiell interesse her er at hver probe-posisjon har ganske lite signal, og består av mange 0. Selve `.hspy` filen er på ca. 13 MB. Sjekk hvor stort datasettet `s` er. Dette gjøres ved å se på `nbytes` attributen, som er i NumPy matrisen i `s` som inneholder selve dataene (`data`). Merk her at dette er i bytes, som betyr at `1000` er en kilobyte, `1000000` er en megabyte, og `1000000000` er en GB.\n",
    "\n",
    "Dette forteller oss noe om hvor mye effekt vi kan få ut av komprimering av data, spesielt såkalt \"sparse\" data. Hvor det er veldig lite signal."
   ]
  },
  {
   "cell_type": "code",
   "execution_count": 54,
   "id": "37532db5-86e4-4f78-9290-0845198d03c5",
   "metadata": {},
   "outputs": [
    {
     "name": "stdout",
     "output_type": "stream",
     "text": [
      "2952790016\n"
     ]
    }
   ],
   "source": [
    "data_array = s.data  # Henter data fra spektrumobjektet\n",
    "t = data_array.nbytes  # Finner antall bytes i dataene\n",
    "print(t)"
   ]
  },
  {
   "cell_type": "markdown",
   "id": "4a9c15f2-05c5-4e40-8c3b-890d0a1135fc",
   "metadata": {},
   "source": [
    "## Enkel utforskning av dataene\n",
    "\n",
    "Nå kan vi visualisere dataene, og se hvordan spektrumene ser ut. Bruk `plot` funksjonen i `s`, og utforsk datasettet.\n",
    "\n",
    "Merk: bildene i Jupyter Notebooken kommer til å være forskjellig fra det dere får opp på deres egen datamaskin.\n",
    "\n",
    "<img src=\"figurer/sem_eds_navigator.jpg\" width=1500 height=700 />"
   ]
  },
  {
   "cell_type": "code",
   "execution_count": 55,
   "id": "d04a3800-6d28-485d-99ce-8cce92d626bb",
   "metadata": {},
   "outputs": [],
   "source": [
    "s.plot()"
   ]
  },
  {
   "cell_type": "markdown",
   "id": "5cc3f39f-fe7a-48ec-8ae2-138337d45178",
   "metadata": {},
   "source": [
    "Her ser vi at hver probe-posisjon har veldig få røntgen-tellinger, ergo at signalet ikke er særlig bra. Noen steder kan vi se at det er klare topper, men disse er for det meste under 10 tellinger.\n",
    "\n",
    "Dette skal vi gjøre noe med, men først vil vi utforske datasettet som funksjon av røntgenstråle-energien. Bruk transpose funksjonaliteten i `s`, og lag et nytt signal `st`: `st = s.T`"
   ]
  },
  {
   "cell_type": "code",
   "execution_count": 56,
   "id": "96e5a829-58bb-4bb7-9e01-616120af1b17",
   "metadata": {},
   "outputs": [],
   "source": [
    "st = s.T"
   ]
  },
  {
   "cell_type": "markdown",
   "id": "e732538d-3740-48a7-baa8-b7ae5f7cd5d2",
   "metadata": {},
   "source": [
    "Skriv `st` i cellen under, og kjør den."
   ]
  },
  {
   "cell_type": "code",
   "execution_count": 57,
   "id": "36e8ad32-e318-44b4-a17a-5e472df6f941",
   "metadata": {},
   "outputs": [
    {
     "data": {
      "text/plain": [
       "<Signal2D, title: 5c_15kV_3p2nA, dimensions: (1024|2048, 1408)>"
      ]
     },
     "execution_count": 57,
     "metadata": {},
     "output_type": "execute_result"
    }
   ],
   "source": [
    "st"
   ]
  },
  {
   "cell_type": "markdown",
   "id": "2c9085c9-d120-4ed1-94b6-4a3eae9a6410",
   "metadata": {},
   "source": [
    "Nå er signalet `Signal2D`: navigasjon- og signal-dimensjonene har blitt byttet om. Så nå kan vi navigere over datasettet som en funksjon av røntgen-energien, istedet for probe-posisjonen.\n",
    "\n",
    "Så plot `st`. Merk at nå er navigatoren i \"røntgen\" plottet.\n",
    "\n",
    "<img src=\"figurer/eds_transpose.jpg\" width=1500 height=700 />\n",
    "\n",
    "Flytt navigatoren frem og tilbake, spesielt på de klare toppene, og se om forskjelliges steder på prøven lyser opp."
   ]
  },
  {
   "cell_type": "code",
   "execution_count": 58,
   "id": "0a3e8e09-1663-4c67-b692-8909bda69286",
   "metadata": {},
   "outputs": [],
   "source": [
    "st.plot()"
   ]
  },
  {
   "cell_type": "markdown",
   "id": "c7c890ae-cc05-49d6-8fee-175305b56d5e",
   "metadata": {},
   "source": [
    "Selv her, så er tellingene veldig lave. Så la oss midle over flere probe-posisjoner og detektor-kanaler.\n",
    "\n",
    "For dette, så bruker vi `rebin` funksjonen, som er i `st`. Bruk `scale` parameteren, og sett den til `(4, 8, 8)`, dette betyr at vi summerer 4 detektor-kanaler, 8 x-probe posisjoner, og 8 y-probe posisjoner. Bruk dette til å lage en ny variabel `st_rebin`."
   ]
  },
  {
   "cell_type": "code",
   "execution_count": 59,
   "id": "5bc1555e-2469-43ac-a730-4b397c683f78",
   "metadata": {},
   "outputs": [],
   "source": [
    "st_rebin = st.rebin(scale=(4,8,8))"
   ]
  },
  {
   "cell_type": "markdown",
   "id": "76798338-c3f9-4433-9986-45c94c4c6cf7",
   "metadata": {},
   "source": [
    "Så kjør `st_rebin`, for å se dimensjonene til dette nye signalet."
   ]
  },
  {
   "cell_type": "code",
   "execution_count": 60,
   "id": "b62b029c-8b93-45d4-8ea9-fa772e0563c0",
   "metadata": {},
   "outputs": [
    {
     "data": {
      "text/plain": [
       "<Signal2D, title: 5c_15kV_3p2nA, dimensions: (256|256, 176)>"
      ]
     },
     "execution_count": 60,
     "metadata": {},
     "output_type": "execute_result"
    }
   ],
   "source": [
    "st_rebin"
   ]
  },
  {
   "cell_type": "markdown",
   "id": "e11a984c-9d9b-4964-980b-3baca3d72d7d",
   "metadata": {},
   "source": [
    "Her ser vi at sammenlignet med det orginale `st` signalet, som var `(2048|1024, 704)`, så er `st_rebin` mye mindre. Spesifikt, at den nye størrelsen er `2048 / 4 | 1024 / 8, 704 / 8)`.\n",
    "\n",
    "Deretter plot dette nye `st_rebin` signalet."
   ]
  },
  {
   "cell_type": "code",
   "execution_count": 61,
   "id": "565997e8-2798-4351-8870-18e0d091bf38",
   "metadata": {},
   "outputs": [],
   "source": [
    "st_rebin.plot()"
   ]
  },
  {
   "cell_type": "markdown",
   "id": "4d8fda43-a010-4726-b0be-81a2094aa280",
   "metadata": {},
   "source": [
    "Nå er røntgen-tellingene mye høyere.\n",
    "\n",
    "Så vi ser at det er noe interessant i dataene. Det neste steget er å lage bilder som viser hvor de forskjellige grunnstoffene er."
   ]
  },
  {
   "cell_type": "markdown",
   "id": "b8afdf08-9ce9-49bd-a8b8-d7b9113e741f",
   "metadata": {},
   "source": [
    "## Mer avansert\n",
    "\n",
    "### Finne grunnstoffene\n",
    "\n",
    "Det første vi må gjøre her, er å finne ut hvilke grunnstoffer vi har i prøvematerialet.\n",
    "\n",
    "Enkleste måten å gjøre dette på, er å se på toppene vi har røntgen-signalet, kombinert med det vi vet om prøvematerialet.\n",
    "\n",
    "Så: summer opp alle probeposisjonene, til et røntgen-energi signal. Bruk `sum` funksjonen i `s` til å lage et nytt signal `s_sum`."
   ]
  },
  {
   "cell_type": "code",
   "execution_count": 62,
   "id": "80675cbb-430a-4e2a-93b8-010dbbcf9393",
   "metadata": {},
   "outputs": [],
   "source": [
    "s_sum = s.sum()"
   ]
  },
  {
   "cell_type": "markdown",
   "id": "a660b8c0-b7c0-4564-bb0b-13667579b6c4",
   "metadata": {},
   "source": [
    "Så bruk `plot` funksjonen i `s_sum` til å visualisere dette signal, og finn ut hva slags grunnstoffer vi har.\n",
    "\n",
    "<img src=\"figurer/eds_sum.jpg\" width=1500 height=700 />\n",
    "\n",
    "Dere kan se hvilke topper de forskjellige grunnstoffene lager, ved for eksempel å bruke denne: https://www.jeolusa.com/Portals/2/brochures/JEOL%20EDS%20Periodic%20Table.jpg?ver=CI-OGZn69_wK8jSagOFuKw%3d%3d"
   ]
  },
  {
   "cell_type": "markdown",
   "id": "a0f4a0a3",
   "metadata": {},
   "source": [
    "1; 0.050 Ukjent\n",
    "2; 0.273 C Carbon\n",
    "3; 0.390 N Nitrogen\n",
    "4; 0.521 O Oksygen\n",
    "5; 0.722 Fe Iron\n",
    "6; 0.852 Ni Nickel\n",
    "7; 1.100 Ga Gallium\n",
    "8; 1.495 Al Aluminium\n",
    "9; 1.741 Si Silicium\n",
    "10; 6.390 Fe Iron\n",
    "11; 7.475 Ni Nickel"
   ]
  },
  {
   "cell_type": "code",
   "execution_count": 63,
   "id": "2feb2d09-4514-4195-bce8-186192d7511b",
   "metadata": {},
   "outputs": [],
   "source": [
    "s_sum.plot()"
   ]
  },
  {
   "cell_type": "markdown",
   "id": "02b8600b-0bbb-4bf4-927f-31a53f007acf",
   "metadata": {},
   "source": [
    "**Gå igjennom alle toppene, og prøv å finn ut hvilket grunnstoff de tilhører.**\n",
    "\n",
    "Merk at samme grunnstoff kan ha flere topper, så hvis dere er usikre så er et triks å sjekke om de andre toppene også er med spektrumet."
   ]
  },
  {
   "cell_type": "markdown",
   "id": "a2a74c64-5832-4815-a991-576c19c625f2",
   "metadata": {},
   "source": [
    "## Kalibrering av data\n",
    "\n",
    "Et viktig aspekt med alle typer data, er at de er kalibrert riktig. For SEM-EDS data, så betyr det både de romlige dimensjonene (probe-posisjonene), og energien til røntgenstrålene. Dere kan IKKE anta at det som automatisk kommer fra instrumentene er riktig.\n",
    "\n",
    "Måten man gjør dette på er å bruke en kjent størrelse til å kalibrere dataene. For bildedata er dette ofte et eller annet objekt, mens for EDS data så bruker man topper fra noen kjente grunnstoffer.\n",
    "\n",
    "Bruk grunnstoffene du fant til å kalibrere energi-aksen til `s_sum` signalet. Bruk `calibrate` funksjonen som er i `s_sum`. Da vil du få opp et plot av `s_sum`, og bruk venstre-klikk + dra i dette plottet for å markere en kjent distanse. For eksempel mellom to topper de vet hva er.\n",
    "\n",
    "<img src=\"figurer/kalibrere_eds.jpg\" width=900 height=900 />"
   ]
  },
  {
   "cell_type": "code",
   "execution_count": 65,
   "id": "05a72106-60c9-4a87-816e-8fce9f447a7b",
   "metadata": {},
   "outputs": [
    {
     "data": {
      "application/vnd.jupyter.widget-view+json": {
       "model_id": "1d0f04e2ac184a5bbc45e7e930bc828c",
       "version_major": 2,
       "version_minor": 0
      },
      "text/plain": [
       "VBox(children=(HBox(children=(FloatText(value=0.0, description='New left'), Label(value='keV', layout=Layout(w…"
      ]
     },
     "metadata": {},
     "output_type": "display_data"
    }
   ],
   "source": [
    "s_sum.calibrate()"
   ]
  },
  {
   "cell_type": "markdown",
   "id": "d42dc9c0-efca-41ec-9886-d09bf7bee786",
   "metadata": {},
   "source": [
    "Så overfør dette til det orignale `s` signalet"
   ]
  },
  {
   "cell_type": "code",
   "execution_count": 66,
   "id": "9e287b84-f54b-4763-a317-aab575f1fad0",
   "metadata": {},
   "outputs": [],
   "source": [
    "s.axes_manager[-1].scale = s_sum.axes_manager[-1].scale\n",
    "s.axes_manager[-1].offset = s_sum.axes_manager[-1].offset"
   ]
  },
  {
   "cell_type": "markdown",
   "id": "29f74d41-2d17-4af5-8415-6f49ab4b79df",
   "metadata": {},
   "source": [
    "### Rebinning av signalet\n",
    "\n",
    "Som vi så tidligere, så er det litt få signaler i hver probe-posisjon. Så før vi begynner med den mer avanserte prosesseringen, så bruk `rebin` funksjonen i `s`, og bruk `scale` parameteren med `(8, 8, 1)` til å summere 8 x 8 probe-posisjoner. Bruk dette til å lage en ny variabel, `s_rebin`.\n",
    "\n",
    "Hvis du er usikker på hvordan du gjør dette, husk at du kan få opp `docstring` for alle funksjoner i python ved å ha en `?` etter funksjonen. Så her, `s.rebin?`."
   ]
  },
  {
   "cell_type": "code",
   "execution_count": 67,
   "id": "e143c250-be10-4ebc-b7f6-8078c784d1e8",
   "metadata": {},
   "outputs": [],
   "source": [
    "s_rebin = s.rebin(scale=(8,8,1))"
   ]
  },
  {
   "cell_type": "markdown",
   "id": "264cb8f4-ebe6-4abf-b34c-7c5bde2e5577",
   "metadata": {},
   "source": [
    "### Legge til grunnstoffene i signalet\n",
    "\n",
    "Nå som dere har funnet grunnstoffene, så må de legges til i `s_rebin` signalet.\n",
    "\n",
    "Dette gjøres via `set_elements` funksjonen som er i `s_rebin`. Parameter som skal til `set_elements` må være en liste, og hvert grunnstoff må være i formen `\"Si\"`, `\"Fe\"`, ...\n",
    "\n",
    "Tips: se i docstring til `set_elements` via \"Shift + Tab\" på tastaturet."
   ]
  },
  {
   "cell_type": "code",
   "execution_count": 68,
   "id": "a1ac46c2-8319-4476-bf46-716b064044d2",
   "metadata": {},
   "outputs": [],
   "source": [
    "s_rebin.set_elements(['C','N','O','Ga','Al','Si','Fe','Ni'])"
   ]
  },
  {
   "cell_type": "markdown",
   "id": "1b630b4a-e891-4577-8021-ff3f879beb3e",
   "metadata": {},
   "source": [
    "Sjekk at alt har blitt lagt til, via `metadata.Sample` attribute i `s_rebin`"
   ]
  },
  {
   "cell_type": "code",
   "execution_count": 69,
   "id": "83d6f7fd-bbe8-404d-851c-adcd6e1d1c52",
   "metadata": {},
   "outputs": [
    {
     "data": {
      "text/html": [
       "<ul style=\"margin: 0px; list-style-position: outside;\">\n",
       "                    <details open>\n",
       "                    <summary style=\"display: list-item;\">\n",
       "                    <li style=\"display: inline;\">\n",
       "                    Acquisition_instrument\n",
       "                    </li></summary>\n",
       "                    <ul style=\"margin: 0px; list-style-position: outside;\">\n",
       "                    <details closed>\n",
       "                    <summary style=\"display: list-item;\">\n",
       "                    <li style=\"display: inline;\">\n",
       "                    SEM\n",
       "                    </li></summary>\n",
       "                    <ul style=\"margin: 0px; list-style-position: outside;\">\n",
       "                    <details closed>\n",
       "                    <summary style=\"display: list-item;\">\n",
       "                    <li style=\"display: inline;\">\n",
       "                    Detector\n",
       "                    </li></summary>\n",
       "                    <ul style=\"margin: 0px; list-style-position: outside;\">\n",
       "                    <details closed>\n",
       "                    <summary style=\"display: list-item;\">\n",
       "                    <li style=\"display: inline;\">\n",
       "                    EDS\n",
       "                    </li></summary>\n",
       "                    \n",
       "    <ul style=\"margin: 0px; list-style-position: outside;\">\n",
       "    <li style='margin-left:1em; padding-left: 0.5em'>azimuth_angle = 0.0</li></ul>\n",
       "    \n",
       "    <ul style=\"margin: 0px; list-style-position: outside;\">\n",
       "    <li style='margin-left:1em; padding-left: 0.5em'>elevation_angle = 35.0</li></ul>\n",
       "    \n",
       "    <ul style=\"margin: 0px; list-style-position: outside;\">\n",
       "    <li style='margin-left:1em; padding-left: 0.5em'>energy_resolution_MnKa = 130.0</li></ul>\n",
       "    </details></ul></details></ul><ul style=\"margin: 0px; list-style-position: outside;\">\n",
       "                    <details closed>\n",
       "                    <summary style=\"display: list-item;\">\n",
       "                    <li style=\"display: inline;\">\n",
       "                    Stage\n",
       "                    </li></summary>\n",
       "                    \n",
       "    <ul style=\"margin: 0px; list-style-position: outside;\">\n",
       "    <li style='margin-left:1em; padding-left: 0.5em'>tilt_alpha = 0.0</li></ul>\n",
       "    </details></ul></details></ul></details></ul><ul style=\"margin: 0px; list-style-position: outside;\">\n",
       "                    <details open>\n",
       "                    <summary style=\"display: list-item;\">\n",
       "                    <li style=\"display: inline;\">\n",
       "                    EDS\n",
       "                    </li></summary>\n",
       "                    \n",
       "    <ul style=\"margin: 0px; list-style-position: outside;\">\n",
       "    <li style='margin-left:1em; padding-left: 0.5em'>Accelerating Voltage = 15,00kV</li></ul>\n",
       "    \n",
       "    <ul style=\"margin: 0px; list-style-position: outside;\">\n",
       "    <li style='margin-left:1em; padding-left: 0.5em'>Azimuth (degrees) = 0,0</li></ul>\n",
       "    \n",
       "    <ul style=\"margin: 0px; list-style-position: outside;\">\n",
       "    <li style='margin-left:1em; padding-left: 0.5em'>Created = 19.09.2024 14:06:26</li></ul>\n",
       "    \n",
       "    <ul style=\"margin: 0px; list-style-position: outside;\">\n",
       "    <li style='margin-left:1em; padding-left: 0.5em'>Detector Type = X-Max</li></ul>\n",
       "    \n",
       "    <ul style=\"margin: 0px; list-style-position: outside;\">\n",
       "    <li style='margin-left:1em; padding-left: 0.5em'>Detector Type Id = 29</li></ul>\n",
       "    \n",
       "    <ul style=\"margin: 0px; list-style-position: outside;\">\n",
       "    <li style='margin-left:1em; padding-left: 0.5em'>Elevation (degrees) = 35,0</li></ul>\n",
       "    \n",
       "    <ul style=\"margin: 0px; list-style-position: outside;\">\n",
       "    <li style='margin-left:1em; padding-left: 0.5em'>Energy Range (keV) = 10 keV</li></ul>\n",
       "    \n",
       "    <ul style=\"margin: 0px; list-style-position: outside;\">\n",
       "    <li style='margin-left:1em; padding-left: 0.5em'>Energy per Channel (eV) = 10,0eV</li></ul>\n",
       "    \n",
       "    <ul style=\"margin: 0px; list-style-position: outside;\">\n",
       "    <li style='margin-left:1em; padding-left: 0.5em'>﻿Label = Map Sum Spectrum</li></ul>\n",
       "    \n",
       "    <ul style=\"margin: 0px; list-style-position: outside;\">\n",
       "    <li style='margin-left:1em; padding-left: 0.5em'>Livetime = 115,3s</li></ul>\n",
       "    \n",
       "    <ul style=\"margin: 0px; list-style-position: outside;\">\n",
       "    <li style='margin-left:1em; padding-left: 0.5em'>Magnification = 29363 x</li></ul>\n",
       "    \n",
       "    <ul style=\"margin: 0px; list-style-position: outside;\">\n",
       "    <li style='margin-left:1em; padding-left: 0.5em'>Number Of Channels = 1024</li></ul>\n",
       "    \n",
       "    <ul style=\"margin: 0px; list-style-position: outside;\">\n",
       "    <li style='margin-left:1em; padding-left: 0.5em'>Primary Detector = </li></ul>\n",
       "    \n",
       "    <ul style=\"margin: 0px; list-style-position: outside;\">\n",
       "    <li style='margin-left:1em; padding-left: 0.5em'>Primary Detector Serial Number = 75099</li></ul>\n",
       "    \n",
       "    <ul style=\"margin: 0px; list-style-position: outside;\">\n",
       "    <li style='margin-left:1em; padding-left: 0.5em'>Process Time = 4</li></ul>\n",
       "    \n",
       "    <ul style=\"margin: 0px; list-style-position: outside;\">\n",
       "    <li style='margin-left:1em; padding-left: 0.5em'>Pulse Pile Up Correction = Succeeded</li></ul>\n",
       "    \n",
       "    <ul style=\"margin: 0px; list-style-position: outside;\">\n",
       "    <li style='margin-left:1em; padding-left: 0.5em'>Source = Acquired</li></ul>\n",
       "    \n",
       "    <ul style=\"margin: 0px; list-style-position: outside;\">\n",
       "    <li style='margin-left:1em; padding-left: 0.5em'>Specimen Tilt (degrees) = 0,0</li></ul>\n",
       "    \n",
       "    <ul style=\"margin: 0px; list-style-position: outside;\">\n",
       "    <li style='margin-left:1em; padding-left: 0.5em'>Window Type = SATW</li></ul>\n",
       "    \n",
       "    <ul style=\"margin: 0px; list-style-position: outside;\">\n",
       "    <li style='margin-left:1em; padding-left: 0.5em'>Working Distance = 3,9mm</li></ul>\n",
       "    </details></ul><ul style=\"margin: 0px; list-style-position: outside;\">\n",
       "                    <details open>\n",
       "                    <summary style=\"display: list-item;\">\n",
       "                    <li style=\"display: inline;\">\n",
       "                    General\n",
       "                    </li></summary>\n",
       "                    <ul style=\"margin: 0px; list-style-position: outside;\">\n",
       "                    <details closed>\n",
       "                    <summary style=\"display: list-item;\">\n",
       "                    <li style=\"display: inline;\">\n",
       "                    FileIO\n",
       "                    </li></summary>\n",
       "                    <ul style=\"margin: 0px; list-style-position: outside;\">\n",
       "                    <details closed>\n",
       "                    <summary style=\"display: list-item;\">\n",
       "                    <li style=\"display: inline;\">\n",
       "                    0\n",
       "                    </li></summary>\n",
       "                    \n",
       "    <ul style=\"margin: 0px; list-style-position: outside;\">\n",
       "    <li style='margin-left:1em; padding-left: 0.5em'>hyperspy_version = 2.1.0</li></ul>\n",
       "    \n",
       "    <ul style=\"margin: 0px; list-style-position: outside;\">\n",
       "    <li style='margin-left:1em; padding-left: 0.5em'>io_plugin = rsciio.ripple</li></ul>\n",
       "    \n",
       "    <ul style=\"margin: 0px; list-style-position: outside;\">\n",
       "    <li style='margin-left:1em; padding-left: 0.5em'>operation = load</li></ul>\n",
       "    \n",
       "    <ul style=\"margin: 0px; list-style-position: outside;\">\n",
       "    <li style='margin-left:1em; padding-left: 0.5em'>timestamp = 2024-09-28T15:12:03.717242+02:00</li></ul>\n",
       "    </details></ul><ul style=\"margin: 0px; list-style-position: outside;\">\n",
       "                    <details closed>\n",
       "                    <summary style=\"display: list-item;\">\n",
       "                    <li style=\"display: inline;\">\n",
       "                    1\n",
       "                    </li></summary>\n",
       "                    \n",
       "    <ul style=\"margin: 0px; list-style-position: outside;\">\n",
       "    <li style='margin-left:1em; padding-left: 0.5em'>hyperspy_version = 2.1.0</li></ul>\n",
       "    \n",
       "    <ul style=\"margin: 0px; list-style-position: outside;\">\n",
       "    <li style='margin-left:1em; padding-left: 0.5em'>io_plugin = rsciio.hspy</li></ul>\n",
       "    \n",
       "    <ul style=\"margin: 0px; list-style-position: outside;\">\n",
       "    <li style='margin-left:1em; padding-left: 0.5em'>operation = save</li></ul>\n",
       "    \n",
       "    <ul style=\"margin: 0px; list-style-position: outside;\">\n",
       "    <li style='margin-left:1em; padding-left: 0.5em'>timestamp = 2024-09-28T15:12:03.757334+02:00</li></ul>\n",
       "    </details></ul><ul style=\"margin: 0px; list-style-position: outside;\">\n",
       "                    <details closed>\n",
       "                    <summary style=\"display: list-item;\">\n",
       "                    <li style=\"display: inline;\">\n",
       "                    2\n",
       "                    </li></summary>\n",
       "                    \n",
       "    <ul style=\"margin: 0px; list-style-position: outside;\">\n",
       "    <li style='margin-left:1em; padding-left: 0.5em'>hyperspy_version = 2.1.1</li></ul>\n",
       "    \n",
       "    <ul style=\"margin: 0px; list-style-position: outside;\">\n",
       "    <li style='margin-left:1em; padding-left: 0.5em'>io_plugin = rsciio.hspy</li></ul>\n",
       "    \n",
       "    <ul style=\"margin: 0px; list-style-position: outside;\">\n",
       "    <li style='margin-left:1em; padding-left: 0.5em'>operation = load</li></ul>\n",
       "    \n",
       "    <ul style=\"margin: 0px; list-style-position: outside;\">\n",
       "    <li style='margin-left:1em; padding-left: 0.5em'>timestamp = 2024-10-19T20:48:19.751263+02:00</li></ul>\n",
       "    </details></ul></details></ul>\n",
       "    <ul style=\"margin: 0px; list-style-position: outside;\">\n",
       "    <li style='margin-left:1em; padding-left: 0.5em'>date = </li></ul>\n",
       "    \n",
       "    <ul style=\"margin: 0px; list-style-position: outside;\">\n",
       "    <li style='margin-left:1em; padding-left: 0.5em'>original_filename = EDS Data 2.rpl</li></ul>\n",
       "    \n",
       "    <ul style=\"margin: 0px; list-style-position: outside;\">\n",
       "    <li style='margin-left:1em; padding-left: 0.5em'>time = </li></ul>\n",
       "    \n",
       "    <ul style=\"margin: 0px; list-style-position: outside;\">\n",
       "    <li style='margin-left:1em; padding-left: 0.5em'>title = 5c_15kV_3p2nA</li></ul>\n",
       "    </details></ul><ul style=\"margin: 0px; list-style-position: outside;\">\n",
       "                    <details open>\n",
       "                    <summary style=\"display: list-item;\">\n",
       "                    <li style=\"display: inline;\">\n",
       "                    Sample\n",
       "                    </li></summary>\n",
       "                    \n",
       "    <ul style=\"margin: 0px; list-style-position: outside;\">\n",
       "    <li style='margin-left:1em; padding-left: 0.5em'>elements = ['Al', 'C', 'Fe', 'Ga', 'N', 'Ni', 'O', 'Si']</li></ul>\n",
       "    </details></ul><ul style=\"margin: 0px; list-style-position: outside;\">\n",
       "                    <details open>\n",
       "                    <summary style=\"display: list-item;\">\n",
       "                    <li style=\"display: inline;\">\n",
       "                    Signal\n",
       "                    </li></summary>\n",
       "                    \n",
       "    <ul style=\"margin: 0px; list-style-position: outside;\">\n",
       "    <li style='margin-left:1em; padding-left: 0.5em'>signal_type = EDS_SEM</li></ul>\n",
       "    </details></ul>"
      ],
      "text/plain": [
       "├── Acquisition_instrument\n",
       "│   └── SEM\n",
       "│       ├── Detector\n",
       "│       │   └── EDS\n",
       "│       │       ├── azimuth_angle = 0.0\n",
       "│       │       ├── elevation_angle = 35.0\n",
       "│       │       └── energy_resolution_MnKa = 130.0\n",
       "│       └── Stage\n",
       "│           └── tilt_alpha = 0.0\n",
       "├── EDS\n",
       "│   ├── Accelerating Voltage = 15,00kV\n",
       "│   ├── Azimuth (degrees) = 0,0\n",
       "│   ├── Created = 19.09.2024 14:06:26\n",
       "│   ├── Detector Type = X-Max\n",
       "│   ├── Detector Type Id = 29\n",
       "│   ├── Elevation (degrees) = 35,0\n",
       "│   ├── Energy Range (keV) = 10 keV\n",
       "│   ├── Energy per Channel (eV) = 10,0eV\n",
       "│   ├── ﻿Label = Map Sum Spectrum\n",
       "│   ├── Livetime = 115,3s\n",
       "│   ├── Magnification = 29363 x\n",
       "│   ├── Number Of Channels = 1024\n",
       "│   ├── Primary Detector = \n",
       "│   ├── Primary Detector Serial Number = 75099\n",
       "│   ├── Process Time = 4\n",
       "│   ├── Pulse Pile Up Correction = Succeeded\n",
       "│   ├── Source = Acquired\n",
       "│   ├── Specimen Tilt (degrees) = 0,0\n",
       "│   ├── Window Type = SATW\n",
       "│   └── Working Distance = 3,9mm\n",
       "├── General\n",
       "│   ├── FileIO\n",
       "│   │   ├── 0\n",
       "│   │   │   ├── hyperspy_version = 2.1.0\n",
       "│   │   │   ├── io_plugin = rsciio.ripple\n",
       "│   │   │   ├── operation = load\n",
       "│   │   │   └── timestamp = 2024-09-28T15:12:03.717242+02:00\n",
       "│   │   ├── 1\n",
       "│   │   │   ├── hyperspy_version = 2.1.0\n",
       "│   │   │   ├── io_plugin = rsciio.hspy\n",
       "│   │   │   ├── operation = save\n",
       "│   │   │   └── timestamp = 2024-09-28T15:12:03.757334+02:00\n",
       "│   │   └── 2\n",
       "│   │       ├── hyperspy_version = 2.1.1\n",
       "│   │       ├── io_plugin = rsciio.hspy\n",
       "│   │       ├── operation = load\n",
       "│   │       └── timestamp = 2024-10-19T20:48:19.751263+02:00\n",
       "│   ├── date = \n",
       "│   ├── original_filename = EDS Data 2.rpl\n",
       "│   ├── time = \n",
       "│   └── title = 5c_15kV_3p2nA\n",
       "├── Sample\n",
       "│   └── elements = ['Al', 'C', 'Fe', 'Ga', 'N', 'Ni', 'O', 'Si']\n",
       "└── Signal\n",
       "    └── signal_type = EDS_SEM"
      ]
     },
     "execution_count": 69,
     "metadata": {},
     "output_type": "execute_result"
    }
   ],
   "source": [
    "s_rebin.metadata"
   ]
  },
  {
   "cell_type": "markdown",
   "id": "f261f726-9f81-47b9-97c1-fd155fe787b3",
   "metadata": {},
   "source": [
    "Så legger vi til røntgen linjene til disse grunnstoffene, via `add_lines` funksjonen i `s_rebin`"
   ]
  },
  {
   "cell_type": "code",
   "execution_count": 70,
   "id": "2499ed65-5f5f-408d-bf4f-4d2616d74413",
   "metadata": {},
   "outputs": [],
   "source": [
    "s_rebin.add_lines()"
   ]
  },
  {
   "cell_type": "markdown",
   "id": "b8df5f66-8395-4df9-9c52-b1c310a1c761",
   "metadata": {},
   "source": [
    "Så se hva som har blitt lagt til i metadataen, via `metadata.Sample` attribute i `s_rebin`"
   ]
  },
  {
   "cell_type": "code",
   "execution_count": 71,
   "id": "f8d168b7-1292-43e3-b021-f56ef9f8b55f",
   "metadata": {},
   "outputs": [
    {
     "data": {
      "text/html": [
       "<ul style=\"margin: 0px; list-style-position: outside;\">\n",
       "                    <details open>\n",
       "                    <summary style=\"display: list-item;\">\n",
       "                    <li style=\"display: inline;\">\n",
       "                    Acquisition_instrument\n",
       "                    </li></summary>\n",
       "                    <ul style=\"margin: 0px; list-style-position: outside;\">\n",
       "                    <details closed>\n",
       "                    <summary style=\"display: list-item;\">\n",
       "                    <li style=\"display: inline;\">\n",
       "                    SEM\n",
       "                    </li></summary>\n",
       "                    <ul style=\"margin: 0px; list-style-position: outside;\">\n",
       "                    <details closed>\n",
       "                    <summary style=\"display: list-item;\">\n",
       "                    <li style=\"display: inline;\">\n",
       "                    Detector\n",
       "                    </li></summary>\n",
       "                    <ul style=\"margin: 0px; list-style-position: outside;\">\n",
       "                    <details closed>\n",
       "                    <summary style=\"display: list-item;\">\n",
       "                    <li style=\"display: inline;\">\n",
       "                    EDS\n",
       "                    </li></summary>\n",
       "                    \n",
       "    <ul style=\"margin: 0px; list-style-position: outside;\">\n",
       "    <li style='margin-left:1em; padding-left: 0.5em'>azimuth_angle = 0.0</li></ul>\n",
       "    \n",
       "    <ul style=\"margin: 0px; list-style-position: outside;\">\n",
       "    <li style='margin-left:1em; padding-left: 0.5em'>elevation_angle = 35.0</li></ul>\n",
       "    \n",
       "    <ul style=\"margin: 0px; list-style-position: outside;\">\n",
       "    <li style='margin-left:1em; padding-left: 0.5em'>energy_resolution_MnKa = 130.0</li></ul>\n",
       "    </details></ul></details></ul><ul style=\"margin: 0px; list-style-position: outside;\">\n",
       "                    <details closed>\n",
       "                    <summary style=\"display: list-item;\">\n",
       "                    <li style=\"display: inline;\">\n",
       "                    Stage\n",
       "                    </li></summary>\n",
       "                    \n",
       "    <ul style=\"margin: 0px; list-style-position: outside;\">\n",
       "    <li style='margin-left:1em; padding-left: 0.5em'>tilt_alpha = 0.0</li></ul>\n",
       "    </details></ul></details></ul></details></ul><ul style=\"margin: 0px; list-style-position: outside;\">\n",
       "                    <details open>\n",
       "                    <summary style=\"display: list-item;\">\n",
       "                    <li style=\"display: inline;\">\n",
       "                    EDS\n",
       "                    </li></summary>\n",
       "                    \n",
       "    <ul style=\"margin: 0px; list-style-position: outside;\">\n",
       "    <li style='margin-left:1em; padding-left: 0.5em'>Accelerating Voltage = 15,00kV</li></ul>\n",
       "    \n",
       "    <ul style=\"margin: 0px; list-style-position: outside;\">\n",
       "    <li style='margin-left:1em; padding-left: 0.5em'>Azimuth (degrees) = 0,0</li></ul>\n",
       "    \n",
       "    <ul style=\"margin: 0px; list-style-position: outside;\">\n",
       "    <li style='margin-left:1em; padding-left: 0.5em'>Created = 19.09.2024 14:06:26</li></ul>\n",
       "    \n",
       "    <ul style=\"margin: 0px; list-style-position: outside;\">\n",
       "    <li style='margin-left:1em; padding-left: 0.5em'>Detector Type = X-Max</li></ul>\n",
       "    \n",
       "    <ul style=\"margin: 0px; list-style-position: outside;\">\n",
       "    <li style='margin-left:1em; padding-left: 0.5em'>Detector Type Id = 29</li></ul>\n",
       "    \n",
       "    <ul style=\"margin: 0px; list-style-position: outside;\">\n",
       "    <li style='margin-left:1em; padding-left: 0.5em'>Elevation (degrees) = 35,0</li></ul>\n",
       "    \n",
       "    <ul style=\"margin: 0px; list-style-position: outside;\">\n",
       "    <li style='margin-left:1em; padding-left: 0.5em'>Energy Range (keV) = 10 keV</li></ul>\n",
       "    \n",
       "    <ul style=\"margin: 0px; list-style-position: outside;\">\n",
       "    <li style='margin-left:1em; padding-left: 0.5em'>Energy per Channel (eV) = 10,0eV</li></ul>\n",
       "    \n",
       "    <ul style=\"margin: 0px; list-style-position: outside;\">\n",
       "    <li style='margin-left:1em; padding-left: 0.5em'>﻿Label = Map Sum Spectrum</li></ul>\n",
       "    \n",
       "    <ul style=\"margin: 0px; list-style-position: outside;\">\n",
       "    <li style='margin-left:1em; padding-left: 0.5em'>Livetime = 115,3s</li></ul>\n",
       "    \n",
       "    <ul style=\"margin: 0px; list-style-position: outside;\">\n",
       "    <li style='margin-left:1em; padding-left: 0.5em'>Magnification = 29363 x</li></ul>\n",
       "    \n",
       "    <ul style=\"margin: 0px; list-style-position: outside;\">\n",
       "    <li style='margin-left:1em; padding-left: 0.5em'>Number Of Channels = 1024</li></ul>\n",
       "    \n",
       "    <ul style=\"margin: 0px; list-style-position: outside;\">\n",
       "    <li style='margin-left:1em; padding-left: 0.5em'>Primary Detector = </li></ul>\n",
       "    \n",
       "    <ul style=\"margin: 0px; list-style-position: outside;\">\n",
       "    <li style='margin-left:1em; padding-left: 0.5em'>Primary Detector Serial Number = 75099</li></ul>\n",
       "    \n",
       "    <ul style=\"margin: 0px; list-style-position: outside;\">\n",
       "    <li style='margin-left:1em; padding-left: 0.5em'>Process Time = 4</li></ul>\n",
       "    \n",
       "    <ul style=\"margin: 0px; list-style-position: outside;\">\n",
       "    <li style='margin-left:1em; padding-left: 0.5em'>Pulse Pile Up Correction = Succeeded</li></ul>\n",
       "    \n",
       "    <ul style=\"margin: 0px; list-style-position: outside;\">\n",
       "    <li style='margin-left:1em; padding-left: 0.5em'>Source = Acquired</li></ul>\n",
       "    \n",
       "    <ul style=\"margin: 0px; list-style-position: outside;\">\n",
       "    <li style='margin-left:1em; padding-left: 0.5em'>Specimen Tilt (degrees) = 0,0</li></ul>\n",
       "    \n",
       "    <ul style=\"margin: 0px; list-style-position: outside;\">\n",
       "    <li style='margin-left:1em; padding-left: 0.5em'>Window Type = SATW</li></ul>\n",
       "    \n",
       "    <ul style=\"margin: 0px; list-style-position: outside;\">\n",
       "    <li style='margin-left:1em; padding-left: 0.5em'>Working Distance = 3,9mm</li></ul>\n",
       "    </details></ul><ul style=\"margin: 0px; list-style-position: outside;\">\n",
       "                    <details open>\n",
       "                    <summary style=\"display: list-item;\">\n",
       "                    <li style=\"display: inline;\">\n",
       "                    General\n",
       "                    </li></summary>\n",
       "                    <ul style=\"margin: 0px; list-style-position: outside;\">\n",
       "                    <details closed>\n",
       "                    <summary style=\"display: list-item;\">\n",
       "                    <li style=\"display: inline;\">\n",
       "                    FileIO\n",
       "                    </li></summary>\n",
       "                    <ul style=\"margin: 0px; list-style-position: outside;\">\n",
       "                    <details closed>\n",
       "                    <summary style=\"display: list-item;\">\n",
       "                    <li style=\"display: inline;\">\n",
       "                    0\n",
       "                    </li></summary>\n",
       "                    \n",
       "    <ul style=\"margin: 0px; list-style-position: outside;\">\n",
       "    <li style='margin-left:1em; padding-left: 0.5em'>hyperspy_version = 2.1.0</li></ul>\n",
       "    \n",
       "    <ul style=\"margin: 0px; list-style-position: outside;\">\n",
       "    <li style='margin-left:1em; padding-left: 0.5em'>io_plugin = rsciio.ripple</li></ul>\n",
       "    \n",
       "    <ul style=\"margin: 0px; list-style-position: outside;\">\n",
       "    <li style='margin-left:1em; padding-left: 0.5em'>operation = load</li></ul>\n",
       "    \n",
       "    <ul style=\"margin: 0px; list-style-position: outside;\">\n",
       "    <li style='margin-left:1em; padding-left: 0.5em'>timestamp = 2024-09-28T15:12:03.717242+02:00</li></ul>\n",
       "    </details></ul><ul style=\"margin: 0px; list-style-position: outside;\">\n",
       "                    <details closed>\n",
       "                    <summary style=\"display: list-item;\">\n",
       "                    <li style=\"display: inline;\">\n",
       "                    1\n",
       "                    </li></summary>\n",
       "                    \n",
       "    <ul style=\"margin: 0px; list-style-position: outside;\">\n",
       "    <li style='margin-left:1em; padding-left: 0.5em'>hyperspy_version = 2.1.0</li></ul>\n",
       "    \n",
       "    <ul style=\"margin: 0px; list-style-position: outside;\">\n",
       "    <li style='margin-left:1em; padding-left: 0.5em'>io_plugin = rsciio.hspy</li></ul>\n",
       "    \n",
       "    <ul style=\"margin: 0px; list-style-position: outside;\">\n",
       "    <li style='margin-left:1em; padding-left: 0.5em'>operation = save</li></ul>\n",
       "    \n",
       "    <ul style=\"margin: 0px; list-style-position: outside;\">\n",
       "    <li style='margin-left:1em; padding-left: 0.5em'>timestamp = 2024-09-28T15:12:03.757334+02:00</li></ul>\n",
       "    </details></ul><ul style=\"margin: 0px; list-style-position: outside;\">\n",
       "                    <details closed>\n",
       "                    <summary style=\"display: list-item;\">\n",
       "                    <li style=\"display: inline;\">\n",
       "                    2\n",
       "                    </li></summary>\n",
       "                    \n",
       "    <ul style=\"margin: 0px; list-style-position: outside;\">\n",
       "    <li style='margin-left:1em; padding-left: 0.5em'>hyperspy_version = 2.1.1</li></ul>\n",
       "    \n",
       "    <ul style=\"margin: 0px; list-style-position: outside;\">\n",
       "    <li style='margin-left:1em; padding-left: 0.5em'>io_plugin = rsciio.hspy</li></ul>\n",
       "    \n",
       "    <ul style=\"margin: 0px; list-style-position: outside;\">\n",
       "    <li style='margin-left:1em; padding-left: 0.5em'>operation = load</li></ul>\n",
       "    \n",
       "    <ul style=\"margin: 0px; list-style-position: outside;\">\n",
       "    <li style='margin-left:1em; padding-left: 0.5em'>timestamp = 2024-10-19T20:48:19.751263+02:00</li></ul>\n",
       "    </details></ul></details></ul>\n",
       "    <ul style=\"margin: 0px; list-style-position: outside;\">\n",
       "    <li style='margin-left:1em; padding-left: 0.5em'>date = </li></ul>\n",
       "    \n",
       "    <ul style=\"margin: 0px; list-style-position: outside;\">\n",
       "    <li style='margin-left:1em; padding-left: 0.5em'>original_filename = EDS Data 2.rpl</li></ul>\n",
       "    \n",
       "    <ul style=\"margin: 0px; list-style-position: outside;\">\n",
       "    <li style='margin-left:1em; padding-left: 0.5em'>time = </li></ul>\n",
       "    \n",
       "    <ul style=\"margin: 0px; list-style-position: outside;\">\n",
       "    <li style='margin-left:1em; padding-left: 0.5em'>title = 5c_15kV_3p2nA</li></ul>\n",
       "    </details></ul><ul style=\"margin: 0px; list-style-position: outside;\">\n",
       "                    <details open>\n",
       "                    <summary style=\"display: list-item;\">\n",
       "                    <li style=\"display: inline;\">\n",
       "                    Sample\n",
       "                    </li></summary>\n",
       "                    \n",
       "    <ul style=\"margin: 0px; list-style-position: outside;\">\n",
       "    <li style='margin-left:1em; padding-left: 0.5em'>elements = ['Al', 'C', 'Fe', 'Ga', 'N', 'Ni', 'O', 'Si']</li></ul>\n",
       "    \n",
       "    <ul style=\"margin: 0px; list-style-position: outside;\">\n",
       "    <li style='margin-left:1em; padding-left: 0.5em'>xray_lines = ['Al_Ka', 'C_Ka', 'Fe_La', 'Ga_La', 'N_Ka', 'Ni_La', 'O_Ka', 'Si_Ka']</li></ul>\n",
       "    </details></ul><ul style=\"margin: 0px; list-style-position: outside;\">\n",
       "                    <details open>\n",
       "                    <summary style=\"display: list-item;\">\n",
       "                    <li style=\"display: inline;\">\n",
       "                    Signal\n",
       "                    </li></summary>\n",
       "                    \n",
       "    <ul style=\"margin: 0px; list-style-position: outside;\">\n",
       "    <li style='margin-left:1em; padding-left: 0.5em'>signal_type = EDS_SEM</li></ul>\n",
       "    </details></ul>"
      ],
      "text/plain": [
       "├── Acquisition_instrument\n",
       "│   └── SEM\n",
       "│       ├── Detector\n",
       "│       │   └── EDS\n",
       "│       │       ├── azimuth_angle = 0.0\n",
       "│       │       ├── elevation_angle = 35.0\n",
       "│       │       └── energy_resolution_MnKa = 130.0\n",
       "│       └── Stage\n",
       "│           └── tilt_alpha = 0.0\n",
       "├── EDS\n",
       "│   ├── Accelerating Voltage = 15,00kV\n",
       "│   ├── Azimuth (degrees) = 0,0\n",
       "│   ├── Created = 19.09.2024 14:06:26\n",
       "│   ├── Detector Type = X-Max\n",
       "│   ├── Detector Type Id = 29\n",
       "│   ├── Elevation (degrees) = 35,0\n",
       "│   ├── Energy Range (keV) = 10 keV\n",
       "│   ├── Energy per Channel (eV) = 10,0eV\n",
       "│   ├── ﻿Label = Map Sum Spectrum\n",
       "│   ├── Livetime = 115,3s\n",
       "│   ├── Magnification = 29363 x\n",
       "│   ├── Number Of Channels = 1024\n",
       "│   ├── Primary Detector = \n",
       "│   ├── Primary Detector Serial Number = 75099\n",
       "│   ├── Process Time = 4\n",
       "│   ├── Pulse Pile Up Correction = Succeeded\n",
       "│   ├── Source = Acquired\n",
       "│   ├── Specimen Tilt (degrees) = 0,0\n",
       "│   ├── Window Type = SATW\n",
       "│   └── Working Distance = 3,9mm\n",
       "├── General\n",
       "│   ├── FileIO\n",
       "│   │   ├── 0\n",
       "│   │   │   ├── hyperspy_version = 2.1.0\n",
       "│   │   │   ├── io_plugin = rsciio.ripple\n",
       "│   │   │   ├── operation = load\n",
       "│   │   │   └── timestamp = 2024-09-28T15:12:03.717242+02:00\n",
       "│   │   ├── 1\n",
       "│   │   │   ├── hyperspy_version = 2.1.0\n",
       "│   │   │   ├── io_plugin = rsciio.hspy\n",
       "│   │   │   ├── operation = save\n",
       "│   │   │   └── timestamp = 2024-09-28T15:12:03.757334+02:00\n",
       "│   │   └── 2\n",
       "│   │       ├── hyperspy_version = 2.1.1\n",
       "│   │       ├── io_plugin = rsciio.hspy\n",
       "│   │       ├── operation = load\n",
       "│   │       └── timestamp = 2024-10-19T20:48:19.751263+02:00\n",
       "│   ├── date = \n",
       "│   ├── original_filename = EDS Data 2.rpl\n",
       "│   ├── time = \n",
       "│   └── title = 5c_15kV_3p2nA\n",
       "├── Sample\n",
       "│   ├── elements = ['Al', 'C', 'Fe', 'Ga', 'N', 'Ni', 'O', 'Si']\n",
       "│   └── xray_lines = ['Al_Ka', 'C_Ka', 'Fe_La', 'Ga_La', 'N_Ka', 'Ni_La', 'O_Ka', 'Si_Ka']\n",
       "└── Signal\n",
       "    └── signal_type = EDS_SEM"
      ]
     },
     "execution_count": 71,
     "metadata": {},
     "output_type": "execute_result"
    }
   ],
   "source": [
    "s_rebin.metadata"
   ]
  },
  {
   "cell_type": "markdown",
   "id": "bfbe2ac2-5701-45d1-851c-b48e0ecc5db2",
   "metadata": {},
   "source": [
    "Her ser dere at det bare har blitt lagt til en linje per grunnstoff. Dette er fordi den med lavest energi er det mest relevant.\n",
    "\n",
    "Dette kan dere så plotte, ved å bruke `plot` med `xray_lines=True` argumentet"
   ]
  },
  {
   "cell_type": "code",
   "execution_count": 72,
   "id": "2cbd1fd0-e8b0-4ba9-ad02-38353bc12301",
   "metadata": {},
   "outputs": [],
   "source": [
    "s_rebin.plot(xray_lines=True)"
   ]
  },
  {
   "cell_type": "markdown",
   "id": "64706574-b8cf-49f4-988d-1d89b42f8e28",
   "metadata": {},
   "source": [
    "Så kan vi hente ut intensiteten for alle disse linjene, over hele datasettet.\n",
    "\n",
    "Til dette bruker vi `get_lines_intensity` som er i `s_rebin`. Lagre resultatet til dette i en ny variabel: `linjer`. I tillegg, så bruk `plot_result=True` i `get_lines_intensity`. Dette vil åpne en plotte-vindu for hvert grunnstoff."
   ]
  },
  {
   "cell_type": "code",
   "execution_count": 73,
   "id": "b300a073-d2fa-4c1d-a8f3-8fc396bcb736",
   "metadata": {},
   "outputs": [],
   "source": [
    "linjer = s_rebin.get_lines_intensity()#plot_result=True)"
   ]
  },
  {
   "cell_type": "markdown",
   "id": "f342df23-413e-4cdf-a34f-d740b8c27f83",
   "metadata": {},
   "source": [
    "Så kan vi se hva som er i `linjer` variablen. Skriv `linjer` i cellen under, og kjør den."
   ]
  },
  {
   "cell_type": "code",
   "execution_count": 74,
   "id": "dc90a52c-b469-4ee4-a957-3907cbb2256c",
   "metadata": {},
   "outputs": [
    {
     "data": {
      "text/plain": [
       "[<BaseSignal, title: X-ray line intensity of 5c_15kV_3p2nA: Al_Ka at 1.49 keV, dimensions: (256, 176|)>,\n",
       " <BaseSignal, title: X-ray line intensity of 5c_15kV_3p2nA: C_Ka at 0.28 keV, dimensions: (256, 176|)>,\n",
       " <BaseSignal, title: X-ray line intensity of 5c_15kV_3p2nA: Fe_La at 0.70 keV, dimensions: (256, 176|)>,\n",
       " <BaseSignal, title: X-ray line intensity of 5c_15kV_3p2nA: Ga_La at 1.10 keV, dimensions: (256, 176|)>,\n",
       " <BaseSignal, title: X-ray line intensity of 5c_15kV_3p2nA: N_Ka at 0.39 keV, dimensions: (256, 176|)>,\n",
       " <BaseSignal, title: X-ray line intensity of 5c_15kV_3p2nA: Ni_La at 0.85 keV, dimensions: (256, 176|)>,\n",
       " <BaseSignal, title: X-ray line intensity of 5c_15kV_3p2nA: O_Ka at 0.52 keV, dimensions: (256, 176|)>,\n",
       " <BaseSignal, title: X-ray line intensity of 5c_15kV_3p2nA: Si_Ka at 1.74 keV, dimensions: (256, 176|)>]"
      ]
     },
     "execution_count": 74,
     "metadata": {},
     "output_type": "execute_result"
    }
   ],
   "source": [
    "linjer"
   ]
  },
  {
   "cell_type": "markdown",
   "id": "1e98a18e-c023-4b7f-bbf4-cd7fd5083a2d",
   "metadata": {},
   "source": [
    "#### Sjekke integrasjonsvinduet"
   ]
  },
  {
   "cell_type": "markdown",
   "id": "e767c5b9-fc00-4b38-acb2-935b0eb7ac0c",
   "metadata": {},
   "source": [
    "Her ser vi at den er en liste med signaler, et for hvert grunnstoff. For å plotte dem: `linjer[0].plot()`\n",
    "\n",
    "Et mulig problem med denne typen prosessering, er hvis røntgen-linjene er så nærme at de overlapper. En måte å sjekke dette på, er å se hvor \"bredde\" integrasjonsvinduene er.\n",
    "\n",
    "Dette gjøres enkelts med å først å summere datasettet igjen. Bruk `sum` via `s_rebin`, til å lage en ny variabel `s_sum2`."
   ]
  },
  {
   "cell_type": "code",
   "execution_count": 76,
   "id": "d9c2f407-0b6e-4820-8735-f9c3f763d745",
   "metadata": {},
   "outputs": [],
   "source": [
    "linjer[0].plot()\n",
    "s_sum2 = s_rebin.sum()"
   ]
  },
  {
   "cell_type": "markdown",
   "id": "53a4b88c-5a47-4d20-bcb7-de130bd0525b",
   "metadata": {},
   "source": [
    "Så `plot` `s_sum2`, med argumentet `integration_windows='auto'`. Bruk forstørrelse-funksjonen til å sjekke at det ikke er for mye overlapp."
   ]
  },
  {
   "cell_type": "code",
   "execution_count": 77,
   "id": "f82127b0-0026-495d-b2db-130b93fb7b45",
   "metadata": {},
   "outputs": [],
   "source": [
    "s_sum2.plot(integration_windows='auto')"
   ]
  },
  {
   "cell_type": "markdown",
   "id": "2d87f66f-2d46-4b02-bd4b-349272a6238d",
   "metadata": {},
   "source": [
    "### Lage bilder av hvor grunnstoffene er\n",
    "\n",
    "Nå som vi kan se hvor de forskjellige grunnstoffene er, så lager vi en figur som viser dette.\n",
    "\n",
    "Først henter vi ut et og et grunnstoff, kall disse `s_si`, `s_fe`, ... . Siden `linjer` er en liste, så gjøres dette med `linjer[0]`, `linjer[1]`, ... . Pass på å sjekke hvilket grunnstoff de forskjellige signalene er!\n",
    "\n",
    "Viktig: disse signalene må transposes! Så kommandoen blir `linjer[0].T`."
   ]
  },
  {
   "cell_type": "code",
   "execution_count": 78,
   "id": "5bafd50d-289c-4556-888d-2dfd8f75bcfb",
   "metadata": {},
   "outputs": [],
   "source": [
    "s_Al = linjer[0].T\n",
    "s_C = linjer[1].T\n",
    "s_Fe = linjer[2].T\n",
    "s_Ga = linjer[3].T\n",
    "s_N = linjer[4].T\n",
    "s_Ni = linjer[5].T\n",
    "s_O = linjer[6].T\n",
    "s_Si = linjer[7].T"
   ]
  },
  {
   "cell_type": "markdown",
   "id": "14e2580b-c5b5-4dfa-ad58-e2a2bffb8de7",
   "metadata": {},
   "source": [
    "Så kan vi lage en matplotlib figur med et subplot per grunnstoffer dere har.\n",
    "\n",
    "- Tips 1: har dere backscatter elektron eller Sekundærelektron bilde, så er det også fint å ta med! Da må dere ha et ekstra subplot i tillegg.\n",
    "- Tips 2: hvis dere har veldig mange grunnstoff, så kan den være en fordel å ha 2 vertikale rader med subplot.\n",
    "- Tips 3: bruk figsize parameteren til å lage figures større, slik at subplotene passer inn. F.eks. hvis dere har 4 horisontale subplot, så kan `figsize=(20, 5)` passe bra.\n",
    "\n",
    "Importer matplotlib"
   ]
  },
  {
   "cell_type": "code",
   "execution_count": 79,
   "id": "4807cdc7-2c19-4608-999a-d3170147a66d",
   "metadata": {},
   "outputs": [],
   "source": [
    "import matplotlib.pyplot as plt"
   ]
  },
  {
   "cell_type": "markdown",
   "id": "8763c6ba-0567-4f27-aa8f-efd961d66f59",
   "metadata": {},
   "source": [
    "Bruk `subplot_mosaic` i `plt` til å lage en figur med 2 rader med subplots. Første definer geometrien `mosaic`:\n",
    "\n",
    "```python\n",
    "mosaic = \"\"\"\n",
    "    abc\n",
    "    de.\n",
    "    \"\"\"\n",
    "```\n",
    "\n",
    "Merk at `.` betyr at det ikke kommer noe plot der. Test f.eks. med `d.e`. Så lag `fig` og `ax_dict` med `plt.subplot_mosaic`, ved å bruke `mosaic` og `figsize=(9, 4))`"
   ]
  },
  {
   "cell_type": "code",
   "execution_count": 252,
   "id": "8bc19239-b00c-40ff-b6b6-e8b964b3efb3",
   "metadata": {},
   "outputs": [],
   "source": [
    "mosaic = \"\"\"\n",
    "abcd\n",
    "efgh\n",
    "\"\"\"\n",
    "fig, ax_dict = plt.subplot_mosaic(mosaic, figsize=(15,10))"
   ]
  },
  {
   "cell_type": "markdown",
   "id": "b939b284-4a7c-4633-8e9d-062677d7a448",
   "metadata": {},
   "source": [
    "Så hent ut `ax_..` objekter. Husk at `ax_dict` er en \"dictionary\""
   ]
  },
  {
   "cell_type": "code",
   "execution_count": 253,
   "id": "965c0be5-7947-43bd-9ce5-f7c384a96959",
   "metadata": {},
   "outputs": [],
   "source": [
    "ax_Al = ax_dict['a']\n",
    "ax_C = ax_dict['b']\n",
    "ax_Fe = ax_dict['c']\n",
    "ax_Ga = ax_dict['d']\n",
    "ax_N = ax_dict['e']\n",
    "ax_Ni = ax_dict['f']\n",
    "ax_O = ax_dict['g']\n",
    "ax_Si = ax_dict['h']"
   ]
  },
  {
   "cell_type": "markdown",
   "id": "e3bfe459-e57e-48a4-a676-c5b88f4a3426",
   "metadata": {},
   "source": [
    "Så bruk `imshow` med forskjellige fargekart (`cmap`) til å visualisere dataene: for eksempel `\"Blues_r\"`, `\"Greens_r\"`, ... Se [matplotlib dokumentasjonen](https://matplotlib.org/stable/tutorials/colors/colormaps.html) for en fullstendig liste over alle fargekartene.\n",
    "\n",
    "Et ekstra plotte-element som burde være med her er en ting som viser antall tellinger. Dette gjøres ved å:\n",
    "\n",
    "- `cax_si = ax_si.imshow(....., extent=s_si.axes_manager.signal_extent, ....)` "
   ]
  },
  {
   "cell_type": "code",
   "execution_count": 254,
   "id": "6d681858-c886-467e-89a5-3f2ed737b7af",
   "metadata": {},
   "outputs": [],
   "source": [
    "cax_Al = ax_Al.imshow(s_Al,cmap='Blues_r',extent=s_Al.axes_manager.signal_extent)\n",
    "cax_C = ax_C.imshow(s_C,cmap='Greens_r',extent=s_C.axes_manager.signal_extent)\n",
    "cax_Fe = ax_Fe.imshow(s_Fe,cmap='BrBG',extent=s_Fe.axes_manager.signal_extent)\n",
    "cax_Ga = ax_Ga.imshow(s_Ga,cmap='turbo',extent=s_Ga.axes_manager.signal_extent)\n",
    "cax_N = ax_N.imshow(s_N,cmap='plasma',extent=s_N.axes_manager.signal_extent)\n",
    "cax_Ni = ax_Ni.imshow(s_Ni,cmap='inferno',extent=s_Ni.axes_manager.signal_extent)\n",
    "cax_O = ax_O.imshow(s_O,cmap='GnBu',extent=s_O.axes_manager.signal_extent)\n",
    "cax_Si = ax_Si.imshow(s_Si,cmap='CMRmap',extent=s_Si.axes_manager.signal_extent)\n"
   ]
  },
  {
   "cell_type": "markdown",
   "id": "7986c34a-d6fd-4d7a-9f96-a0075c5b52da",
   "metadata": {},
   "source": [
    "### Sette clim\n",
    "\n",
    "I noen datasett, så kan det være vanskelig å se de interessante delene av dataene, fordi andre deler av datasettet entent har veldig høye eller veldig lave verdier.\n",
    "\n",
    "Hvis dette er tilfellet, så bruk `cax_...` variablene til å sette \"fargenivået\" i plottene. Dette gjøres via `set_clim` funksjonen i (f.eks.) `cax_si`.\n",
    "\n",
    "Merk at dere må finne ut hva de gode verdiene er her. En måte å gjøre det er å plotte dataene (f.eks. i `s_si`), flytte musepekeren over de interessante områdene, og se hva verdien er der (helt øverst til høyre `intensity`)."
   ]
  },
  {
   "cell_type": "code",
   "execution_count": 255,
   "id": "7e2f28b2",
   "metadata": {},
   "outputs": [],
   "source": [
    "#plt.plot(s_Al)\n",
    "cax_Al.set_clim()\n",
    "cax_C.set_clim()\n",
    "cax_Fe.set_clim()\n",
    "cax_Ga.set_clim()\n",
    "cax_N.set_clim()\n",
    "cax_Ni.set_clim()\n",
    "cax_O.set_clim()\n",
    "cax_Si.set_clim()"
   ]
  },
  {
   "cell_type": "markdown",
   "id": "bba4083f-401b-4176-b0a3-934fc58799a6",
   "metadata": {},
   "source": [
    "#### Legge til colorbars\n",
    "\n",
    "I denne typen figurer, så er det fint å vise hvor mange tellinger man har. Dette gjøres via `colorbar`.\n",
    "\n",
    "- `fig.colorbar(cax_si, ax=ax_si, label=\"Si\")`\n",
    "\n",
    "Merk: hvis dere får to colorbars på samme sublplot, så har dere kjørt `fig.colorbar(...)` to ganger på samme subplot. For å fikse dette, så lag figuren på nytt, fra `plt.subplots(...)`."
   ]
  },
  {
   "cell_type": "code",
   "execution_count": 256,
   "id": "4ada3f13-9624-445c-bc47-fc821474d29a",
   "metadata": {},
   "outputs": [
    {
     "data": {
      "text/plain": [
       "<matplotlib.colorbar.Colorbar at 0x1ae5f2ed0>"
      ]
     },
     "execution_count": 256,
     "metadata": {},
     "output_type": "execute_result"
    }
   ],
   "source": [
    "ori ='horizontal'\n",
    "padd=0.02\n",
    "fig.colorbar(cax_Al, ax=ax_Al, label='Al',orientation=ori,pad=padd)\n",
    "fig.colorbar(cax_C, ax=ax_C, label='C',orientation=ori,pad=padd)\n",
    "fig.colorbar(cax_Fe, ax=ax_Fe, label='Fe',orientation=ori,pad=padd)\n",
    "fig.colorbar(cax_Ga, ax=ax_Ga, label='Ga',orientation=ori,pad=padd)\n",
    "fig.colorbar(cax_N, ax=ax_N, label='N',orientation=ori,pad=padd)\n",
    "fig.colorbar(cax_Ni, ax=ax_Ni, label='Ni',orientation=ori,pad=padd)\n",
    "fig.colorbar(cax_O, ax=ax_O, label='O',orientation=ori,pad=padd)\n",
    "fig.colorbar(cax_Si, ax=ax_Si, label='Si',orientation=ori,pad=padd)"
   ]
  },
  {
   "cell_type": "code",
   "execution_count": 259,
   "id": "20d61d77",
   "metadata": {},
   "outputs": [],
   "source": [
    "# Assuming ax_Al is part of a subplot grid\n",
    "for ax, label in zip([ax_Al, ax_C, ax_Fe, ax_Ga,ax_N, ax_Ni, ax_O, ax_Si],['A)', 'B)', 'C)', 'D)', 'E)', 'F)', 'G)', 'H)']):\n",
    "    ax.set_xticks([])\n",
    "    ax.set_yticks([])\n",
    "    ax.annotate(label, xy=(0.03, 0.88), xycoords='axes fraction',\n",
    "                fontsize=12, color='white', fontweight='bold',  # Make text bold and white\n",
    "                bbox=dict(facecolor='black', alpha=0.7, edgecolor='none'))  # Add black background with some transparency\n",
    "\n",
    "fig.subplots_adjust(hspace=0,left=0.01,right=0.99)    \n",
    "\n",
    "fig.savefig('SEM EDS_5c_15kV_3p2nA.png',bbox_inches='tight')#pad_inches=0"
   ]
  },
  {
   "cell_type": "markdown",
   "id": "82fa60bf-f719-43f8-a907-ec9c92425a90",
   "metadata": {},
   "source": [
    "Så bruk tingene dere har lært i de andre dataøvingen, til å lage en figur:\n",
    "\n",
    "- Legg til scalebar\n",
    "- Ha annoteringer (a, b, c, ...), skriv hvilket grunnstoff det er: \"Fe\", \"Si\", ...\n",
    "- Fjern tomrommet som kommer rundt plottene\n",
    "- Fjern tallene som er rundt bildene. Her må dere mest sannsynlig manuelt stille på `figsize` til det blir bra\n",
    "\n",
    "Eksempel på en sånn figur, men uten alle annoteringene\n",
    "\n",
    "<img src=\"figurer/eds_kart.jpg\" width=1500 height=900 />"
   ]
  }
 ],
 "metadata": {
  "kernelspec": {
   "display_name": "Python 3.12.2 ('pyxem_2024')",
   "language": "python",
   "name": "python3"
  },
  "language_info": {
   "codemirror_mode": {
    "name": "ipython",
    "version": 3
   },
   "file_extension": ".py",
   "mimetype": "text/x-python",
   "name": "python",
   "nbconvert_exporter": "python",
   "pygments_lexer": "ipython3",
   "version": "3.12.2"
  },
  "vscode": {
   "interpreter": {
    "hash": "d6eae7f0df78b11becaf0334afd9cf9af5448918d87d6aeabe4aad3461cdb5b7"
   }
  }
 },
 "nbformat": 4,
 "nbformat_minor": 5
}
