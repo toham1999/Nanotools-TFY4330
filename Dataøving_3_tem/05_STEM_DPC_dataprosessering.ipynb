{
 "cells": [
  {
   "cell_type": "markdown",
   "id": "851202ef-5c9c-42cd-a67a-e958c94e1da0",
   "metadata": {},
   "source": [
    "# Prosessering av STEM-DPC data\n",
    "\n",
    "Denne Jupyter Notebooken viser hvordan Scanning Transmission Electron Microscopy - Differential Phase Contrast (STEM-DPC) data kan analyseres. Sammenlignet med analyse av \"standard\" TEM data som dere så på i forrige Notebook, så er dette mer komplisert på grunn av datastørrelsen: det er veldig enkelt å gå tom for minne, noe som (mest sannsynlig) gjør at datamaskinen deres kræsjer.\n",
    "\n",
    "### Målet med denne notebooken\n",
    "\n",
    "- Dere skal kunne prosessere de magnetiske STEM-DPC dataene deres fra TEM-laben\n",
    "- Bli komfortable med å jobbe med 4-dimensjonelle datasett\n",
    "- Lære litt enkle verktøy og strategier for å jobbe med store datasett, som ofte er mye større en tilgjengelig minne\n",
    "\n",
    "### Notebook-planen\n",
    "\n",
    "- \"Åpne\" datasettet uten å laste det inn i minnet, \"lazily\"\n",
    "- Utforske datasettet, uten å laste det inn i minnet. Via \"lazy plotting\"\n",
    "- Redusere datamengden, slik at vi kan laste det inn i minnet\n",
    "- Bruk center of mass til å finne den magnetiske vektoren i hver probe-posisjon\n",
    "- Visualisere den magnetiske domenestrukturen i en bildefil\n",
    "\n",
    "Eksempel på bilde:\n",
    "\n",
    "<img src=\"bilder/eksempelbilde_dpc.jpg\" width=300 height=300 />\n",
    "\n",
    "Selve datasettene dere skal se på her er på ca. 8 GB, noe som er ganske smått i \"4-D STEM\" verdenen: disse kan lett være 100+ GB. Så selv om dere har en datamaskin som takler 8 GB, så anbefaler jeg at dere følger prosedyren for å redusere datastørrelsen.\n",
    "\n",
    "**Merk**: for å gjøre denne dataøvingen, så må dere ha lastet ned datasettet `stem_dpc_data.hspy` og legge det i `datasett` mappa: https://filesender.sikt.no/?s=download&token=81ef6a80-1738-40c5-bc19-a05c48aa83d0 (denne lenken vil være tilgjengelig fram til 20. november)"
   ]
  },
  {
   "cell_type": "markdown",
   "id": "e960a1be-f7f8-4e7d-a8a4-f64abe8df6c7",
   "metadata": {},
   "source": [
    "## Importere biblioteker\n",
    "\n",
    "Først, plotte-biblioteket. Dette kan enten være `%matplotlib qt` for egne vinduer for plottene, eller `%matplotlib widget` for å få plottene i selve Jupyter Notebooken."
   ]
  },
  {
   "cell_type": "code",
   "execution_count": null,
   "id": "3b0361bf-9671-4e08-998d-6042a535cc49",
   "metadata": {},
   "outputs": [],
   "source": [
    "%matplotlib widget"
   ]
  },
  {
   "cell_type": "markdown",
   "id": "0aa1c3c5-b404-4044-bef9-842afc5aa739",
   "metadata": {},
   "source": [
    "Så importere HyperSpy"
   ]
  },
  {
   "cell_type": "code",
   "execution_count": null,
   "id": "fbeabfaf-bf1f-4b86-aa5e-d9b64e156462",
   "metadata": {},
   "outputs": [],
   "source": [
    "import hyperspy.api as hs"
   ]
  },
  {
   "cell_type": "markdown",
   "id": "1c1deda0-946b-4213-bd5d-67c18c631703",
   "metadata": {},
   "source": [
    "# Konvertere datasett\n",
    "\n",
    "Det første vi må gjøre er å konvertere dataene til `.zspy` formatet, dette for å kunne prosessere dataene mye raskere. Hvis dere jobber med eget datasett, så må dere endre på filnavn i begge cellene under.\n",
    "\n",
    "Merk: dette trenger bare å gjøres en gang, når dere har lagd `.zspy` filen så trenger dere ikke å gjøre det igjen."
   ]
  },
  {
   "cell_type": "code",
   "execution_count": null,
   "id": "411260e4-cc48-4c5e-9830-e9c78563441d",
   "metadata": {},
   "outputs": [],
   "source": [
    "#s_dpc = hs.load(\"datasett/stem_dpc_data.hspy\", lazy=True)\n",
    "#s_dpc = hs.load(\"datasett/test_merlin.hspy\", lazy=True)\n",
    "s_dpc = hs.load(\"My_data_gr5/hyperspy_files_merlin/Av5_deg-9.9.hspy\", lazy=True)\n",
    "s_dpc.save(\"My_data_gr5/hyperspy_files_merlin/Av5_deg-9.9.zspy\", chunks=(64, 64, 64, 64))\n",
    "s_dpc = hs.load(\"My_data_gr5/hyperspy_files_merlin/Av5_deg9.8.hspy\", lazy=True)\n",
    "s_dpc.save(\"My_data_gr5/hyperspy_files_merlin/Av5_deg9.8.zspy\", chunks=(64, 64, 64, 64))"
   ]
  },
  {
   "cell_type": "markdown",
   "id": "502ffd28-a38f-4249-9634-4afc0c4ca0e0",
   "metadata": {},
   "source": [
    "## Åpne dataset\n",
    "\n",
    "Dette gjøres via `hs.load`, som kan åpne en rekke dataformater, spesielt innenfor elektronmikroskopi. Velg et av STEM-DPC datasettene deres, disse skal ha:\n",
    "\n",
    "- `.zspy` \"fileformat\", denne er egentlig en mappe, men skriv den inn som om det er en fil.\n",
    "- Ha filnavn som inneholder noe med: `stem_dpc`, `STEMDPC`, `LowMag`, `Low_Mag`, `lowmag`, `obj_off` eller `OBJOFF`\n",
    "\n",
    "Siden disse er ganske store, så husk å bruk `lazy=True`. Lag et objekt som heter `s`.\n",
    "\n",
    "Tips: sjekk docstring for informasjon om hvordan `hs.load` virker.\n",
    "\n",
    "(Det er mulig at dere får en `WARNING` melding om `pyOpenCl`. Dette er en `WARNING` ikke en `ERROR`, så her kan den ignoreres.)"
   ]
  },
  {
   "cell_type": "code",
   "execution_count": null,
   "id": "6fac07a0-41dd-47b7-92d6-0cd7e490001a",
   "metadata": {},
   "outputs": [],
   "source": [
    "s = hs.load('My_data_gr5/hyperspy_files_merlin/Av5_deg9.8.zspy',lazy=True)"
   ]
  },
  {
   "cell_type": "markdown",
   "id": "5a6acea9-f5a5-4edd-93d9-55b51b9807b9",
   "metadata": {},
   "source": [
    "Skriv `print(s)` i cellen under, og kjør cellen."
   ]
  },
  {
   "cell_type": "code",
   "execution_count": null,
   "id": "41440c88-cf95-4c08-b0c8-790c8c123cd9",
   "metadata": {},
   "outputs": [],
   "source": [
    "print(s)"
   ]
  },
  {
   "cell_type": "markdown",
   "id": "a20008a5-c073-4f51-93aa-86e2a03b7f8a",
   "metadata": {},
   "source": [
    "Her ser vi at dette er et `LazyElectronDiffraction2D` signal. `Lazy` betyr at dataene er ikke overført til RAM, ergo at dataene ennå bare er på harddisken. \n",
    "\n",
    "Den siste delen, `(256, 256|256, 256)` er dimensjonene til datasettet. Tallene til venstre for `|` er navigasjons-dimensjonene (probe-posisjoner), mens de til høyre er signal-dimensjonene (detektor-posisjoner). Ergo, vi har et 4-dimensjonalt datasett, som består av `256 x 256` probe-posisjoner, og `256 x 256` detektorposisjoner.\n",
    "\n",
    "For å få mer informasjon om dette, kjør `s` i cellen:"
   ]
  },
  {
   "cell_type": "code",
   "execution_count": null,
   "id": "d8bac2b7-e12f-4c49-ac2a-1b6088c4f0d8",
   "metadata": {},
   "outputs": [],
   "source": [
    "s"
   ]
  },
  {
   "cell_type": "code",
   "execution_count": null,
   "id": "f44b8ab2",
   "metadata": {},
   "outputs": [],
   "source": [
    "s.metadata"
   ]
  },
  {
   "cell_type": "code",
   "execution_count": null,
   "id": "ce309f8a",
   "metadata": {},
   "outputs": [],
   "source": [
    "axes_manager = s.axes_manager\n",
    "print(axes_manager)  # Check axes dimensions and order"
   ]
  },
  {
   "cell_type": "code",
   "execution_count": null,
   "id": "151fa363",
   "metadata": {},
   "outputs": [],
   "source": [
    "%matplotlib qt\n",
    "s_T = s.T\n",
    "s_T.calibrate()  # Prompts you to draw a line"
   ]
  },
  {
   "cell_type": "code",
   "execution_count": null,
   "id": "b7f4cb02",
   "metadata": {},
   "outputs": [],
   "source": [
    "s = s_T.T\n",
    "axes_manager = s.axes_manager\n",
    "print(axes_manager)  # Check axes dimensions and order"
   ]
  },
  {
   "cell_type": "markdown",
   "id": "acffbcd0-4029-459a-95bd-4f89f0d664fb",
   "metadata": {},
   "source": [
    "Her ser vi at den totale størrelsen på datasettet er 8 GiB, og at dataene er lagret i 16 usigned integer. Dette gir 2 bytes per datapunkt (8 bits i en byte).\n",
    "\n",
    "En del av dere har nok en datamaskin som kan takle dette, men la oss prøve å redusere datamengden litt.\n",
    "\n",
    "**VIKTIG:** det er veldig lett å kræsje datamaskinen når man holder på med såpass store datasett. Så pass på at dere har lagret ting dere har åpent."
   ]
  },
  {
   "cell_type": "markdown",
   "id": "e0bbff8b-abe1-4667-aa0a-3ff01cf2f8c3",
   "metadata": {},
   "source": [
    "## Plotting av dataen\n",
    "\n",
    "`s` er et signal objekt som inneholder mange funksjoner. En av disse er `plot`, som lar oss visualisere dataene. Kjør denne funksjonen."
   ]
  },
  {
   "cell_type": "code",
   "execution_count": null,
   "id": "c3d44e3f-feed-42f3-8924-a8e0ff6ffb7c",
   "metadata": {},
   "outputs": [],
   "source": [
    "%matplotlib widget\n",
    "s.plot()"
   ]
  },
  {
   "cell_type": "markdown",
   "id": "009269f8-dd4b-4daf-80b3-c29ab5ce226f",
   "metadata": {},
   "source": [
    "Siden dette er et `lazy` signal, så må HyperSpy kalkulere et navigasjonsbilde ved å hente ut deler (`chunks`) av gangen.\n",
    "\n",
    "Denne navigeringen kan \"hakke\" litt, dette fordi alt må leses fra harddisken. Planen nå er å redusere datastørrelsen, slik at vi kan laste alt inn i minnet, men først vil vi utforske datasettet litt for å se hvor mye vi kan redusere datasettet.\n",
    "\n",
    "Dere får opp to bilder: \"navigeringsplot\" og \"signalplot\".\n",
    "\n",
    "<img src=\"bilder/nav_og_sig.jpg\" width=700 height=700 />\n",
    "\n",
    "- Tips 1: navigatoren kan gjøres større ved å trykke på `+` knappen på **tastaturet**. Og mindre med å trykke på `-` knappen på **tastaturet**. Dette summerer IKKE flere piksler, men er bare en måte å lettere treffe navigator-markøren.\n",
    "- Tips 2: dere kan også flytte rundt med pil-tastene.\n",
    "\n",
    "(Siden folk har litt forskjellige datasett, så er det sannsynlig at ikke alt dette er relevant for alle.)\n",
    "Som dere kanskje har sett allerede, så er bildet i eksemplet over, annerledes enn bildet i plottene deres.\n",
    "\n",
    "Dette er fordi HyperSpy bare bruker den midterste \"chunken\" i signal-dimensjonen for å lage navigasjonsbildet. For de fleste datasett, så virker dette greit nok. Men her er det litt suboptimalt, fordi elektronproben flytter seg ganske mye. Så la oss lage et bedre \"navigasjonsbilde\". For å gjøre dette, så lager vi først et \"bright field\" bilde av datasettet. Ergo, vi summerer hele diffraksjonsmønsteret i hver eneste probeposisjon. For å gjøre dette bruker vi `sum` funksjonen som er i `s`. Men vi må spesifisere at vi vil summere over de to siste dimensjonene, for å gjøre dette. Bruk `axis=(-1, -2)` i `sum` funksjonen. Resultatet i denne skal så lagres i en ny variabel: `s_sum`"
   ]
  },
  {
   "cell_type": "code",
   "execution_count": null,
   "id": "0d309bf1-eb2d-47a0-8d2d-2f5e2efc562c",
   "metadata": {},
   "outputs": [],
   "source": [
    "s_sum = s.sum(axis=(-1,-2))"
   ]
  },
  {
   "cell_type": "markdown",
   "id": "46bdbd33-b1e8-4283-b290-e84ce24f9fbe",
   "metadata": {},
   "source": [
    "Så kan vi se hva dette nye signalet er, kjør `print(s_sum)`"
   ]
  },
  {
   "cell_type": "code",
   "execution_count": null,
   "id": "18c82bc1-4570-4351-8cd3-bb201475b0f6",
   "metadata": {},
   "outputs": [],
   "source": [
    "print(s_sum)"
   ]
  },
  {
   "cell_type": "markdown",
   "id": "5c54e272-a7a5-42ce-8c0e-d5d58725bca9",
   "metadata": {},
   "source": [
    "Her ser vi at `s_sum` har 2 navigasjonsdimensjoner, og 0 signaldimensjoner. Disse vil vi \"flippe\", ergo å få 0 navigasjonsdimensjoner, og 2 signaldimensjoner.\n",
    "\n",
    "Gjør dette ved å bruk `transpose` funksjonen i `s_sum`, og lagre den til en ny variabel `s_nav`. Så kjør `print(s_nav)` for å se hvordan den ser ut."
   ]
  },
  {
   "cell_type": "code",
   "execution_count": null,
   "id": "42f63d93-e405-4496-ba6b-acd69ca1cae0",
   "metadata": {},
   "outputs": [],
   "source": [
    "s_nav = s_sum.T\n",
    "print(s_nav)"
   ]
  },
  {
   "cell_type": "markdown",
   "id": "6cced43b-ce44-461c-a5d3-244bab8527fa",
   "metadata": {},
   "source": [
    "Nå dar den riktige dimensjoner, men den er ennå `LazyElectronDiffraction2D`. Ergo, vi har ikke egentlig gjort alle operasjonene ennå. For å gjøre dette, kjør `compute` funksjonen i `s_nav`. Så kjør `print(s_nav)`"
   ]
  },
  {
   "cell_type": "code",
   "execution_count": null,
   "id": "557fc6ea-e4a6-44e8-ab4e-cef68710868b",
   "metadata": {},
   "outputs": [],
   "source": [
    "s_nav.compute()\n",
    "print(s_nav)"
   ]
  },
  {
   "cell_type": "markdown",
   "id": "80eb5db7-54a6-4bc0-89bf-1507a3817e1a",
   "metadata": {},
   "source": [
    "Nå er `ElectronDiffraction2D`, ergo at vi har gjort alle kalkuleringene, og lastet dataene inn i minnet.\n",
    "\n",
    "Kjør så `plot` funksjonen i `s_nav`."
   ]
  },
  {
   "cell_type": "code",
   "execution_count": null,
   "id": "8d4399d0-8ec5-40cf-ac14-f5b03ef9c06b",
   "metadata": {},
   "outputs": [],
   "source": [
    "s_nav.plot()"
   ]
  },
  {
   "cell_type": "markdown",
   "id": "75b28707-e321-4024-927f-741d1834b05a",
   "metadata": {},
   "source": [
    "Dette er et \"bright field\" bilde av strukturen, som vi skal bruke som navigasjonsbilde.\n",
    "\n",
    "Dette gjøres ved å sette `navigator` attribute i `s` lik `s_nav`."
   ]
  },
  {
   "cell_type": "code",
   "execution_count": null,
   "id": "b81ede6a-a7bd-4947-ba2d-dc3c65d73de2",
   "metadata": {},
   "outputs": [],
   "source": [
    "s.navigator==s_nav"
   ]
  },
  {
   "cell_type": "markdown",
   "id": "99b5410a-db31-45c8-8608-87963c6a5bad",
   "metadata": {},
   "source": [
    "Deretter kan vi bruke `plot` funksjonen i `s`. Da blir `s_nav` automatisk brukt som navigasjonsbilde."
   ]
  },
  {
   "cell_type": "code",
   "execution_count": null,
   "id": "f8716f9c-6667-4d5a-a44d-f72f0e34a817",
   "metadata": {},
   "outputs": [],
   "source": [
    "s.plot()"
   ]
  },
  {
   "cell_type": "markdown",
   "id": "0185366e-9243-46c4-9b6d-a1e0528de7d7",
   "metadata": {},
   "source": [
    "Siden vi bare er interessert i senter-disken, så kan vi fjerne alt \"tomrommet\" (det grønne i bildet her) hvor elektronstrålen ikke er. Ergo: vi beskjærer datasettet, slik at vi bare får de delene vi bryr oss om.\n",
    "\n",
    "<img src=\"bilder/01_diffraksjonsbilde_senterdisk.jpg\" width=300 height=300 />\n",
    "\n",
    "Et vanlig problem, er at elektronstrålen flytter seg som funksjon av probe-posisjon. Så vi kan ikke bare beskjære akkurat rundt der den er i en enkeltposisjon, vi må ha litt \"ekstra\" rom på sidene.\n",
    "\n",
    "<img src=\"bilder/01_finn_senter.jpg\" width=500 height=500 />\n",
    "\n",
    "- Plasser navigatoren midt i datasettet, som vist i bildet over.\n",
    "- Se hva `x` og `y` er i senterpunktet av disken (øverst til høyre i signal plottet)\n",
    "- Bruk `isig` til å beskjære. Syntaksen er: `s.isig[x0:x1, y0:y1]`, hvor dere kan for eksempel ha +- 50 rundt senterposisjonen. Ergo at det beskjærte området blir 100 x 100 piksler tilsammen.\n",
    "    * Eksempel: `s.isig[128 - 50 : 128 + 50, 128 - 50 : 128 + 50]`\n",
    "- Lagre dette som en ny variabel: `s1`. \n",
    "\n",
    "Hvis deler av datasettet er \"dekket\" av tykke deler av prøven, som dere ikke bryr dere om, så bare gjør dette med de områdene som er tynne nok. Hvis du har sånne \"uinteressante\" områder, så bruk `inav` til å fjerne dem på en tilsvarende måte. Skriv `s1` i cellen under, og kjør cellen."
   ]
  },
  {
   "cell_type": "code",
   "execution_count": null,
   "id": "7da0359c-01df-44c3-9352-edc3e62c9941",
   "metadata": {},
   "outputs": [],
   "source": [
    "s1 = s.isig[90:150, 0:62]\n",
    "s1"
   ]
  },
  {
   "cell_type": "markdown",
   "id": "2ff3d9c4-71be-4267-b033-8e59b5dafb6a",
   "metadata": {},
   "source": [
    "Her ser vi at dette er et `LazyElectronDiffraction2D` signal, men med færre detektor-posisjoner! Hvis dere brukt 50 piksler som eksemplet ovenfor, så vil dette nye signalet `s1` bare være 15% av `s` sin størrelse.\n",
    "\n",
    "Her kan vi gjenbruke navigasjonsbildet fra tidligere, via `navigator` attributen. For å sjekke hvordan dette ser ut, så bruk: `s1.plot()`"
   ]
  },
  {
   "cell_type": "code",
   "execution_count": null,
   "id": "123fa69f-33a9-4ffa-b10a-e0a62fc37c9c",
   "metadata": {},
   "outputs": [],
   "source": [
    "s1.navigator\n",
    "s1.plot()"
   ]
  },
  {
   "cell_type": "markdown",
   "id": "debc4650-7d2a-4077-b2ec-cf053499908c",
   "metadata": {},
   "source": [
    "Sjekk at den hele senterdisken ennå er i datasettet, ved å flytte navigatoren til de ytre hjørnene.\n",
    "\n",
    "Nå er navigeringen mye raskere, fordi vi laster en mye mindre del av datasettet inn i minnet per probeposisjon.\n",
    "\n",
    "<img src=\"bilder/02_senter_posisjon.jpg\" width=800 height=800 />"
   ]
  },
  {
   "cell_type": "markdown",
   "id": "534feed0-b96f-42fe-81a1-7947ce72b2b3",
   "metadata": {},
   "source": [
    "Hvis dette ser bra ut så bruk `compute` funksjonen i `s1`.\n",
    "\n",
    "**VIKTIG:** dette vil laste hele `s1` datasettet inn i minnet, og hvis du ikke har gjort de forrige stegene riktig, så kan det kræsje datamaskinen din!\n",
    "\n",
    "Nå vil plottingen være mye raskere, siden alt er i minnet. Bruk `plot` i `s1`, for å se hvordan prøven og datasettet ser ut."
   ]
  },
  {
   "cell_type": "code",
   "execution_count": null,
   "id": "30708087-2a7b-4460-a4fc-81acabf43cbe",
   "metadata": {},
   "outputs": [],
   "source": [
    "s1.compute()\n",
    "s1.plot()"
   ]
  },
  {
   "cell_type": "markdown",
   "id": "d74aeaee-924d-42b0-9692-1628b1a48a26",
   "metadata": {
    "tags": []
   },
   "source": [
    "## Magnetisk kontrast\n",
    "\n",
    "Nå som datasettet er litt mer håndterbart, så kan vi prøve å se de magnetiske domenene.\n",
    "\n",
    "En enkel måte å gjøre dette på, er å bytte om på \"navigasjon\" og \"signal\" dimensjonene. Ergo: istedet for at vi endrer på probe-posisjonen, så endrer vi heller på detektorposisjonen.\n",
    "\n",
    "Kjør: `s1.T.plot()`, og flytt navigatoren rundt senterstrålen. Dette vil se litt rart ut, på grunn av at elektronstrålen flytter på seg, men dere burde kunne se litt magnetisk kontrast på grensen mellom de lyse og mørke områdene."
   ]
  },
  {
   "cell_type": "code",
   "execution_count": null,
   "id": "3327b6a5-2694-4858-a9e5-55868105e168",
   "metadata": {},
   "outputs": [],
   "source": [
    "s1.T.plot()"
   ]
  },
  {
   "cell_type": "markdown",
   "id": "d7a23ae6-9565-4aca-882b-288177485432",
   "metadata": {},
   "source": [
    "## Mer avansert analyse\n",
    "\n",
    "En litt mer avansert måte å analysere dette, er å bruk `get_direct_beam_position` funksjonen i `s1`, med parameter `center_of_mass`. Lagre dette som `s1_bs`. Dette regner ut hvor senter-posisjonen er for alle probe-posisjonene. Dette gir et `BeamShift` signal, hvor x- og y-posisjonene er i navigasjonsposisjonene. Bruk `plot` i `s1_bs`."
   ]
  },
  {
   "cell_type": "code",
   "execution_count": null,
   "id": "a4a23fc7-dff8-4b96-893e-108f1a0d07e4",
   "metadata": {},
   "outputs": [],
   "source": [
    "s1_bs = s1.get_direct_beam_position(method = 'center_of_mass')\n",
    "s1_bs.plot()  "
   ]
  },
  {
   "cell_type": "markdown",
   "id": "1341cb09-d9ca-4e72-9f85-c5de70435181",
   "metadata": {},
   "source": [
    "Her ser vi at vi har et problem med at senter-strålen har flyttet seg, som gir et \"plan\" i både x- og y-retningen.\n",
    "\n",
    "Dette kan korrigeres ved å bruk `get_linear_plane` funksjonen i `s1_bs`.\n",
    "\n",
    "Bruk denne, og lagre denne som en nytt signal: `s1_bs_lp`."
   ]
  },
  {
   "cell_type": "code",
   "execution_count": 1,
   "id": "7977118a-39ea-40b7-8822-08c7192b631c",
   "metadata": {},
   "outputs": [
    {
     "ename": "NameError",
     "evalue": "name 's1_bs' is not defined",
     "output_type": "error",
     "traceback": [
      "\u001b[0;31m---------------------------------------------------------------------------\u001b[0m",
      "\u001b[0;31mNameError\u001b[0m                                 Traceback (most recent call last)",
      "Cell \u001b[0;32mIn[1], line 1\u001b[0m\n\u001b[0;32m----> 1\u001b[0m s1_bs_lp \u001b[38;5;241m=\u001b[39m \u001b[43ms1_bs\u001b[49m\u001b[38;5;241m.\u001b[39mget_linear_plane(fit_corners\u001b[38;5;241m=\u001b[39m\u001b[38;5;241m0.1\u001b[39m)\n",
      "\u001b[0;31mNameError\u001b[0m: name 's1_bs' is not defined"
     ]
    }
   ],
   "source": [
    "s1_bs_lp = s1_bs.get_linear_plane()"
   ]
  },
  {
   "cell_type": "markdown",
   "id": "e2758a1e-7680-4b05-8c75-9f9e8382298e",
   "metadata": {},
   "source": [
    "Så lag et nytt signal `s1_bs_corr` ved å ta `s1_bs` minus `s1_bs_lp`. Så plot `s1_bs_corr`, ved å bruke `get_magnitude_phase_signal().plot()`."
   ]
  },
  {
   "cell_type": "code",
   "execution_count": 2,
   "id": "69d0cb61-b752-482f-bb29-5a5d76f1a7bd",
   "metadata": {},
   "outputs": [
    {
     "ename": "NameError",
     "evalue": "name 's1_bs' is not defined",
     "output_type": "error",
     "traceback": [
      "\u001b[0;31m---------------------------------------------------------------------------\u001b[0m",
      "\u001b[0;31mNameError\u001b[0m                                 Traceback (most recent call last)",
      "Cell \u001b[0;32mIn[2], line 1\u001b[0m\n\u001b[0;32m----> 1\u001b[0m s1_bs_corr \u001b[38;5;241m=\u001b[39m \u001b[43ms1_bs\u001b[49m \u001b[38;5;241m-\u001b[39m s1_bs_lp\n\u001b[1;32m      2\u001b[0m s1_bs_corr\u001b[38;5;241m.\u001b[39mget_magnitude_phase_signal(rotation\u001b[38;5;241m=\u001b[39m\u001b[38;5;241m30\u001b[39m)\u001b[38;5;241m.\u001b[39mplot()\n",
      "\u001b[0;31mNameError\u001b[0m: name 's1_bs' is not defined"
     ]
    }
   ],
   "source": [
    "s1_bs_corr = s1_bs - s1_bs_lp\n",
    "s1_bs_corr.get_magnitude_phase_signal().plot()"
   ]
  },
  {
   "cell_type": "markdown",
   "id": "d4fdb67e-2afa-416d-b4e8-9400d9931f0c",
   "metadata": {},
   "source": [
    "Dette skal se noe ut som dette:\n",
    "\n",
    "<img src=\"bilder/center_of_mass_color.jpg\" width=1000 height=1000 />"
   ]
  },
  {
   "cell_type": "markdown",
   "id": "866c678e-0d32-435e-a7f8-e0d04524e84e",
   "metadata": {},
   "source": [
    "# Andre visualiseringer\n",
    "\n",
    "Styrke på magnetismen: `s1_bs_corr` sin funksjon `get_magnitude_signal`"
   ]
  },
  {
   "cell_type": "code",
   "execution_count": null,
   "id": "1cdd11fa-fae0-4a6a-8e66-106b72f42003",
   "metadata": {},
   "outputs": [],
   "source": [
    "s1_bs_corr.get_magnitude_signal()"
   ]
  },
  {
   "cell_type": "markdown",
   "id": "c036f5f1-9c5a-43d0-a848-a7ba7c425139",
   "metadata": {},
   "source": [
    "Histogram av magnetiske vektorer, `get_bivariate_histogram`"
   ]
  },
  {
   "cell_type": "code",
   "execution_count": null,
   "id": "7e32b930-50a9-4ccd-85ff-5c842d83a2de",
   "metadata": {},
   "outputs": [],
   "source": [
    "s1_bs_corr.get_bivariate_histogram()"
   ]
  },
  {
   "cell_type": "code",
   "execution_count": null,
   "id": "32e99bbc",
   "metadata": {},
   "outputs": [],
   "source": [
    "s1_bs_corr.axes_manager"
   ]
  },
  {
   "cell_type": "code",
   "execution_count": null,
   "id": "5095be27",
   "metadata": {},
   "outputs": [],
   "source": [
    "s1_bs_corr.axes_manager.gui()"
   ]
  },
  {
   "cell_type": "markdown",
   "id": "0259896e-bd24-4f74-8f19-8886e0cfe389",
   "metadata": {
    "tags": []
   },
   "source": [
    "## Plotting av disse dataene\n",
    "\n",
    "Nå kan dette kombineres med kunnskapen og koden dere brukte i TEM-bildedata notebooken, og FIB notebooken, til å lage en figur som ligner på den i starten av denne Jupyter Notebooken.\n",
    "\n",
    "For å få disse fargeplottene i en matplotlib-figur, så først lag en `fig` og en `ax` via matplotlib.\n",
    "\n",
    "Første importer `pyxem` som `pxm`.\n",
    "\n",
    "Så bruk `pxm.utils.plotting.plot_beam_shift_color` med `s1_bs_corr` og `ax=ax`.\n",
    "\n",
    "Tips: posisjonen til fargehjulet kan styres med `ax_indicator` parameteren, se docstringen for mer informasjon.\n",
    "\n",
    "Husk å legge til en \"scalebar\", på samme måte som i tidligere dataøvinger.\n"
   ]
  },
  {
   "cell_type": "code",
   "execution_count": null,
   "id": "a5ebdb00",
   "metadata": {},
   "outputs": [],
   "source": [
    "%matplotlib widget\n",
    "import pyxem as pxm\n",
    "import matplotlib.pyplot as plt\n",
    "# Create a figure and axes for plotting\n",
    "fig, ax = plt.subplots(figsize=(5,5))\n",
    "\n",
    "from mpl_toolkits.axes_grid1.anchored_artists import AnchoredSizeBar\n",
    "import matplotlib.font_manager as fm\n",
    "import matplotlib.patheffects as patheffects\n",
    "fontprops = fm.FontProperties(size=14)\n",
    "scalebar_kwargs = {'size': 3, 'label': '3 um', 'loc': 4, 'frameon': False, 'color': 'white', 'size_vertical': 0.4, 'label_top': False, 'fontproperties': fontprops}\n",
    "scalebar = AnchoredSizeBar(transform=ax.transData, **scalebar_kwargs)\n",
    "# Denne legger til et svart omriss rundt scalebar teksten, for å gjøre den lettere å lese\n",
    "scalebar.txt_label._text.set_path_effects([patheffects.withStroke(linewidth=2, foreground='black', capstyle=\"round\")])\n",
    "ax.add_artist(scalebar)\n",
    "ax.annotate(text='A', xy=(0.03, 0.93), xycoords='axes fraction',fontsize=20, color='white', fontweight='bold')\n",
    "\n",
    "ax_indicator = fig.add_axes([0.13, 0.01, 0.15, 0.355])  # Adjust [left, bottom, width, height] as needed\n",
    "# Assuming s1_bs_corr contains the required data\n",
    "pxm.utils.plotting.plot_beam_shift_color(s1_bs_corr, ax=ax, ax_indicator=ax_indicator)\n",
    "fig.savefig('Avg_deg9.8.png',dpi=600,bbox_inches='tight')##,bbox_inches='tight', pad_inches=0\n"
   ]
  }
 ],
 "metadata": {
  "kernelspec": {
   "display_name": "Python 3.12.2 ('pyxem_2024')",
   "language": "python",
   "name": "python3"
  },
  "language_info": {
   "codemirror_mode": {
    "name": "ipython",
    "version": 3
   },
   "file_extension": ".py",
   "mimetype": "text/x-python",
   "name": "python",
   "nbconvert_exporter": "python",
   "pygments_lexer": "ipython3",
   "version": "3.10.13"
  },
  "vscode": {
   "interpreter": {
    "hash": "d6eae7f0df78b11becaf0334afd9cf9af5448918d87d6aeabe4aad3461cdb5b7"
   }
  }
 },
 "nbformat": 4,
 "nbformat_minor": 5
}
