{
 "cells": [
  {
   "cell_type": "markdown",
   "metadata": {},
   "source": [
    "# Using a Jupyter Notebook in JupyterLab"
   ]
  },
  {
   "cell_type": "markdown",
   "metadata": {},
   "source": [
    "## Jupyter Notebook? JupyterLab?"
   ]
  },
  {
   "cell_type": "markdown",
   "metadata": {},
   "source": [
    "A Jupyter Notebook is what you are looking at right now. These are files which have a `.ipynb` file extension. You can see an example of this in the navigator to the left.\n",
    "\n",
    "JupyterLab is a software application which runs these Jupyter Notebook in a browser, like Firefox, Chrome, or any modern web browser.\n",
    "\n",
    "Thus, when we talk about a Notebook, we refer to the file. While JupyterLab is the \"graphical\" user interface."
   ]
  },
  {
   "cell_type": "markdown",
   "metadata": {},
   "source": [
    "## Code cells"
   ]
  },
  {
   "cell_type": "markdown",
   "metadata": {},
   "source": [
    "Jupyter Notebooks are divided into cells, which contain either code or text.\n",
    "\n",
    "Lines with `[ ]:` (and are grey) are code cells, which means the code in the line can be executed. This is done by clicking the line, and pressing Shift + Enter. This also moves the selection to the next line."
   ]
  },
  {
   "cell_type": "code",
   "execution_count": 1,
   "metadata": {},
   "outputs": [],
   "source": [
    "import time\n",
    "time.sleep(3)"
   ]
  },
  {
   "cell_type": "markdown",
   "metadata": {},
   "source": [
    "The original `[ ]:` changes firstly to `[*]:` which means the line is being executed. And when the line has finished executed, it changes to `[1]:`. The number refers to how many lines were executed before this one. Note this is not the line number in the notebook, but the input to the python interpreter. It is possible to execute lines in any order.\n",
    "\n",
    "It is also possible to navigate to different lines by using the up or down arrow keys."
   ]
  },
  {
   "cell_type": "markdown",
   "metadata": {},
   "source": [
    "If there is output from the cell, it appears beneath the code cell. For example:"
   ]
  },
  {
   "cell_type": "code",
   "execution_count": 2,
   "metadata": {},
   "outputs": [
    {
     "data": {
      "text/plain": [
       "4"
      ]
     },
     "execution_count": 2,
     "metadata": {},
     "output_type": "execute_result"
    }
   ],
   "source": [
    "1 + 3"
   ]
  },
  {
   "cell_type": "markdown",
   "metadata": {},
   "source": [
    "## Tab completion"
   ]
  },
  {
   "cell_type": "markdown",
   "metadata": {},
   "source": [
    "A very useful feature is tab completion. Select the next line, go to the end of `time.s`, and press tab. This will bring up all the functions which start with `s`. Select `sleep`, write `time.sleep(1)` and execute the line using Ctrl + Enter"
   ]
  },
  {
   "cell_type": "code",
   "execution_count": 3,
   "metadata": {},
   "outputs": [
    {
     "ename": "AttributeError",
     "evalue": "module 'time' has no attribute 's'",
     "output_type": "error",
     "traceback": [
      "\u001b[0;31m---------------------------------------------------------------------------\u001b[0m",
      "\u001b[0;31mAttributeError\u001b[0m                            Traceback (most recent call last)",
      "Cell \u001b[0;32mIn[3], line 1\u001b[0m\n\u001b[0;32m----> 1\u001b[0m \u001b[43mtime\u001b[49m\u001b[38;5;241;43m.\u001b[39;49m\u001b[43ms\u001b[49m\n",
      "\u001b[0;31mAttributeError\u001b[0m: module 'time' has no attribute 's'"
     ]
    }
   ],
   "source": [
    "time.s"
   ]
  },
  {
   "cell_type": "markdown",
   "metadata": {},
   "source": [
    "## Docstrings"
   ]
  },
  {
   "cell_type": "markdown",
   "metadata": {},
   "source": [
    "Another useful feature is the docstring, which explains how functions work. One way of accessing these, is by processing `Shift + Tab` while having the cursor on a function.\n",
    "\n",
    "Press `sleep` in the cell below, and then press `Shift + Tab`"
   ]
  },
  {
   "cell_type": "code",
   "execution_count": 4,
   "metadata": {},
   "outputs": [
    {
     "data": {
      "text/plain": [
       "<function time.sleep>"
      ]
     },
     "execution_count": 4,
     "metadata": {},
     "output_type": "execute_result"
    }
   ],
   "source": [
    "time.sleep"
   ]
  },
  {
   "cell_type": "markdown",
   "metadata": {},
   "source": [
    "These docstrings (usually) contain a lot of useful information on how to use these functions, and is very useful as a quick lookup.\n",
    "\n",
    "Hvis du bruker JupyterLab, så kan du få opp et eget vindu som viser docstrings: `Help - Show Contextual Help`"
   ]
  },
  {
   "cell_type": "markdown",
   "metadata": {},
   "source": [
    "## Collapse output"
   ]
  },
  {
   "cell_type": "markdown",
   "metadata": {},
   "source": [
    "For some functions, the output can be very verbose, spanning many, many lines. To reduce the size of the result \"box\", first click on it, then click on the blue vertical line. To make the result reappear, press the `...`."
   ]
  },
  {
   "cell_type": "code",
   "execution_count": 5,
   "metadata": {
    "scrolled": true,
    "tags": []
   },
   "outputs": [
    {
     "name": "stdout",
     "output_type": "stream",
     "text": [
      "0\n",
      "1\n",
      "2\n",
      "3\n",
      "4\n",
      "5\n",
      "6\n",
      "7\n",
      "8\n",
      "9\n",
      "10\n",
      "11\n",
      "12\n",
      "13\n",
      "14\n",
      "15\n",
      "16\n",
      "17\n",
      "18\n",
      "19\n",
      "20\n",
      "21\n",
      "22\n",
      "23\n",
      "24\n",
      "25\n",
      "26\n",
      "27\n",
      "28\n",
      "29\n",
      "30\n",
      "31\n",
      "32\n",
      "33\n",
      "34\n",
      "35\n",
      "36\n",
      "37\n",
      "38\n",
      "39\n",
      "40\n",
      "41\n",
      "42\n",
      "43\n",
      "44\n",
      "45\n",
      "46\n",
      "47\n",
      "48\n",
      "49\n",
      "50\n",
      "51\n",
      "52\n",
      "53\n",
      "54\n",
      "55\n",
      "56\n",
      "57\n",
      "58\n",
      "59\n",
      "60\n",
      "61\n",
      "62\n",
      "63\n",
      "64\n",
      "65\n",
      "66\n",
      "67\n",
      "68\n",
      "69\n",
      "70\n",
      "71\n",
      "72\n",
      "73\n",
      "74\n",
      "75\n",
      "76\n",
      "77\n",
      "78\n",
      "79\n",
      "80\n",
      "81\n",
      "82\n",
      "83\n",
      "84\n",
      "85\n",
      "86\n",
      "87\n",
      "88\n",
      "89\n",
      "90\n",
      "91\n",
      "92\n",
      "93\n",
      "94\n",
      "95\n",
      "96\n",
      "97\n",
      "98\n",
      "99\n"
     ]
    }
   ],
   "source": [
    "for i in range(100):\n",
    "    print(i)"
   ]
  },
  {
   "cell_type": "markdown",
   "metadata": {
    "tags": []
   },
   "source": [
    "## Markdown cells\n",
    "\n",
    "In addition to the code cells, we also have something called markdown cells. There are useful for including information within the Notebook. An example if this, is this cell!\n",
    "\n",
    "These can things like formulas, headings, lists, images, weblinks, ...:\n",
    "\n",
    "- A formula: $La_{0.7}Sr_{0.3}MnO_3$: https://en.wikipedia.org/wiki/Lanthanum_strontium_manganite\n",
    "\n",
    "### A heading!\n",
    "\n",
    "To see the \"source code\" of this markdown cell:\n",
    "\n",
    "1. Double click it, or\n",
    "2. Select it, and press `Enter`\n",
    "\n",
    "These markdown cells makes Jupyter Notebooks useful for documenting workflows or for tutorials."
   ]
  },
  {
   "cell_type": "markdown",
   "metadata": {},
   "source": [
    "## Hurtigtaster\n",
    "\n",
    "Jupyter har 2 moduser: `Edit` og `Command`.\n",
    "\n",
    "- For å gå til `Edit` modus, velg en celle, og trykk på `Enter` knappen. I denne modusen så kan du endre på inneholdet i en celle.\n",
    "- For å gå til `Command` modus, velg en celle, og trykk på `ESC` knappen. I denne modusen kan man legge til, fjerne, kopiere/lime eller klippe/lime celler.\n",
    "\n",
    "Nyttige hurtigtaster i `Command` er:\n",
    "\n",
    "- `A` : legge til ny celle over\n",
    "- `B` : legge til ny celle under\n",
    "- `DD`: slette cellen du har valgt\n",
    "- `C` : kopiere celle\n",
    "- `V` : lime celle\n",
    "- `X` : klippe celle\n",
    "- `M` : gjøre en kode-celle til en markdown-celle\n",
    "- `Y` : gjør en markdown-celle til en kode-celle"
   ]
  },
  {
   "cell_type": "markdown",
   "metadata": {},
   "source": [
    "## Saving\n",
    "The file will be saved periodically and can be saved manually from the toolbar `File -> Save notebook`.\n",
    "\n",
    "They can also be exported as different formats, for example `html`. This makes it easy to share a non-interactive version of the notebook. `File -> Export Notebook As -> HTML`"
   ]
  },
  {
   "cell_type": "markdown",
   "metadata": {},
   "source": [
    "## Summary"
   ]
  },
  {
   "cell_type": "markdown",
   "metadata": {},
   "source": [
    "For now, there are two main things you should remember:\n",
    "\n",
    "- Code cells have a `[ ]:` and are grey\n",
    "- You can run them by selecting them, and pressing `Shift + Enter`\n"
   ]
  },
  {
   "cell_type": "code",
   "execution_count": 6,
   "metadata": {},
   "outputs": [
    {
     "name": "stdout",
     "output_type": "stream",
     "text": [
      "Run this cell!\n"
     ]
    }
   ],
   "source": [
    "print(\"Run this cell!\")"
   ]
  }
 ],
 "metadata": {
  "kernelspec": {
   "display_name": "Python 3.12.2 ('pyxem_2024')",
   "language": "python",
   "name": "python3"
  },
  "language_info": {
   "codemirror_mode": {
    "name": "ipython",
    "version": 3
   },
   "file_extension": ".py",
   "mimetype": "text/x-python",
   "name": "python",
   "nbconvert_exporter": "python",
   "pygments_lexer": "ipython3",
   "version": "3.12.2"
  },
  "vscode": {
   "interpreter": {
    "hash": "d6eae7f0df78b11becaf0334afd9cf9af5448918d87d6aeabe4aad3461cdb5b7"
   }
  }
 },
 "nbformat": 4,
 "nbformat_minor": 4
}
