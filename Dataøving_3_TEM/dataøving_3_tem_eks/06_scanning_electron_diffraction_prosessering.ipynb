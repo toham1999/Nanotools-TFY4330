{
 "cells": [
  {
   "cell_type": "markdown",
   "id": "731130d9-05a0-4c3f-8b89-c8d0c790b666",
   "metadata": {},
   "source": [
    "# Prosessering av Scanning Electron Diffraction (SED) data\n",
    "\n",
    "Denne Jupyter Notebooken viser hvordan Scanning Electron Diffraction (SED) data kan analyseres. Sammenlignet med analyse av \"standard\" TEM data som dere så på i forrige Notebook, så er dette mer komplisert på grunn av datastørrelsen: det er veldig enkelt å gå tom for minne, noe som (mest sannsynlig) gjør at datamaskinen deres kræsjer.\n",
    "\n",
    "### Målet med denne notebooken\n",
    "\n",
    "- Dere skal kunne prosessere SED datasettene fra TEM-laben\n",
    "- Bli komfortable med å jobbe med 4-dimensjonelle datasett\n",
    "- Lære litt enkle verktøy og strategier for å jobbe med store datasett, som ofte er mye større en tilgjengelig minne\n",
    "\n",
    "### Notebook-planen\n",
    "\n",
    "- \"Åpne\" datasettet uten å laste det inn i minnet, \"lazily\"\n",
    "- Utforske datasettet, via å redusere datamengden\n",
    "- Redusere datamengden, slik at vi kan laste det inn i minnet\n",
    "- Finne, og hente ut, individuelle diffraksjonsmønster\n",
    "\n",
    "Eksempel på bilde:\n",
    "\n",
    "<img src=\"bilder/sed_plot_example.jpg\" width=600 height=600 />\n",
    "\n",
    "Selve datasettene dere skal se på her er på ca. 8 GB, noe som er ganske smått i \"4-D STEM\" verdenen: disse kan lett være 100+ GB. Så selv om dere har en datamaskin som takler 8 GB, så anbefaler jeg at dere følger prosedyren for å redusere datastørrelsen.\n",
    "\n",
    "**Merk**: for å gjøre denne dataøvingen, så må dere ha lastet ned datasettet `scanning_electron_diffraction_data.hspy` og legge det i `datasett` mappa: https://filesender.sikt.no/?s=download&token=81ef6a80-1738-40c5-bc19-a05c48aa83d0 (denne lenken vil være tilgjengelig fram til 20. november)"
   ]
  },
  {
   "cell_type": "markdown",
   "id": "e1cf10fb-a8a4-445b-add9-ee806f61925c",
   "metadata": {},
   "source": [
    "## Importere biblioteker\n",
    "\n",
    "Først, plotte-biblioteket. Dette kan enten være `%matplotlib qt` for egne vinduer for plottene, eller `%matplotlib widget` for å få plottene i selve Jupyter Notebooken."
   ]
  },
  {
   "cell_type": "code",
   "execution_count": null,
   "id": "b11f6c99-103d-4842-abce-32051d3b99a8",
   "metadata": {},
   "outputs": [],
   "source": []
  },
  {
   "cell_type": "markdown",
   "id": "c4446f10-1c3e-4c62-a552-ffdb745f7cfe",
   "metadata": {},
   "source": [
    "Så importere HyperSpy"
   ]
  },
  {
   "cell_type": "code",
   "execution_count": null,
   "id": "4a34d6b0-7b99-47b8-92e7-65b0fd589b98",
   "metadata": {},
   "outputs": [],
   "source": []
  },
  {
   "cell_type": "markdown",
   "id": "b6f21068-03d3-4e3c-ba2d-8ae02039a9d8",
   "metadata": {},
   "source": [
    "# Konvertere datasett\n",
    "\n",
    "Det første vi må gjøre er å konvertere dataene til `.zspy` formatet, dette for å kunne prosessere dataene mye raskere. Hvis dere jobber med eget datasett, så må dere endre på filnavn i begge cellene under.\n",
    "\n",
    "Merk: dette trenger bare å gjøres en gang, når dere har lagd `.zspy` filen så trenger dere ikke å gjøre det igjen."
   ]
  },
  {
   "cell_type": "code",
   "execution_count": null,
   "id": "680f44ed-ac31-40ae-b01f-5cdee24ba073",
   "metadata": {},
   "outputs": [],
   "source": [
    "s_sed = hs.load(\"datasett/scanning_electron_diffraction_data.hspy\", lazy=True)"
   ]
  },
  {
   "cell_type": "code",
   "execution_count": null,
   "id": "8318952d-56e1-489e-80da-c87987a38f4b",
   "metadata": {},
   "outputs": [],
   "source": [
    "s_sed.save(\"datasett/scanning_electron_diffraction_data.zspy\", chunks=(64, 64, 64, 64))"
   ]
  },
  {
   "cell_type": "markdown",
   "id": "f3f096bd-a7ee-4a3f-981b-0bdd9e7b1a05",
   "metadata": {},
   "source": [
    "## Åpne dataset\n",
    "\n",
    "Dette gjøres via `hs.load`, som kan åpne en rekke dataformater, spesielt innenfor elektronmikroskopi. Velg et av STEM-DPC datasettene deres, disse skal ha:\n",
    "\n",
    "- `.hspy` filformat\n",
    "- Ha filnavn som IKKE inneholder: `stem_dpc`, `STEMDPC`, `LowMag`, `Low_Mag`, `lowmag`, `obj_off` eller `OBJOFF`\n",
    "- Som KAN inneholde: `SED` eller `sed`\n",
    "\n",
    "Siden disse er ganske store, så husk å bruk `lazy=True`. Lag et objekt som heter `s`.\n",
    "\n",
    "Tips: sjekk docstring for informasjon om hvordan `hs.load` virker."
   ]
  },
  {
   "cell_type": "code",
   "execution_count": null,
   "id": "65342755-b950-41a7-91e6-478188939715",
   "metadata": {},
   "outputs": [],
   "source": []
  },
  {
   "cell_type": "markdown",
   "id": "5b2c60fa-2149-4b41-92a4-ed20a9263d37",
   "metadata": {},
   "source": [
    "Skriv `s` i cellen under, og kjør cellen."
   ]
  },
  {
   "cell_type": "code",
   "execution_count": null,
   "id": "6e480b9d-b003-4a70-911a-dab5e970aa43",
   "metadata": {},
   "outputs": [],
   "source": []
  },
  {
   "cell_type": "markdown",
   "id": "a526fc3c-f541-445f-9119-8ad6e8402634",
   "metadata": {},
   "source": [
    "Her ser vi at dette er et `LazyElectronDiffraction2D` signal. `Lazy` betyr at dataene er ikke overført til RAM, ergo at dataene ennå bare er på harddisken. I tillegg ser vi at datasettet har `256 x 256` probe-posisjoner, og `256 x 256` detektorposisjoner. Hvert datapunkt er en 16-bit heltall, som gir 2 bytes. Dette gir en datastørrelse på: `256 * 256 * 256 * 256 * 2`, som er ca. 8.6 gigabytes.\n",
    "\n",
    "En del av dere har nok en datamaskin som kan takle dette, men la oss prøve å redusere datamengden litt.\n",
    "\n",
    "**VIKTIG:** det er veldig lett å kræsje datamaskinen når man holder på med såpass store datasett. Så pass på at dere har lagret ting dere har åpent."
   ]
  },
  {
   "cell_type": "markdown",
   "id": "668963a5-de62-4398-a75e-e86dcbe59acf",
   "metadata": {},
   "source": [
    "## Plotting av dataen\n",
    "\n",
    "`s` er et signal objekt som inneholder mange funksjoner. Et av disse er `plot`, prøv denne med argumentet `norm=\"symlog\"`. Dette gjør at signal dimensjonen blir plottet i log-log, som gjør det lettere å se de svake diffraksjonsdiskene. Siden dette er et `lazy` signal, så må HyperSpy kalkulere et navigasjonsbilde ved å hente ut deler (`chunks`) av gangen.\n",
    "\n",
    "Denne navigeringen kan \"hakke\" litt, dette fordi alt må leses fra harddisken. Planen nå er å redusere datastørrelsen, slik at vi kan laste alt inn i minnet, men først vil vi utforske datasettet litt for å se hvor mye vi kan redusere datasettet.\n",
    "\n",
    "Dere får opp to bilder: \"navigeringsplot\" og \"signalplot\".\n",
    "\n",
    "<img src=\"bilder/SED_plot_nav_og_sig.jpg\" width=700 height=700 />\n",
    "\n",
    "- Tips 1: navigatoren kan gjøres større ved å trykke på `+` knappen på **tastaturet**. Og mindre med å trykke på `-` knappen på **tastaturet**. Dette summerer IKKE flere piksler, men er bare en måte å lettere treffe navigator-markøren.\n",
    "- Tips 2: dere kan også flytte rundt med pil-tastene.\n",
    "\n",
    "(Siden folk har litt forskjellige datasett, så er det sannsynlig at ikke alt dette er relevant for alle.)"
   ]
  },
  {
   "cell_type": "code",
   "execution_count": null,
   "id": "cff78b1f-6cf6-4626-918f-0270db21ab11",
   "metadata": {},
   "outputs": [],
   "source": []
  },
  {
   "cell_type": "markdown",
   "id": "b9101d18-0deb-4a2d-9625-91f10829c17b",
   "metadata": {},
   "source": [
    "Det som er mest interessant i disse datasettene, er hvordan diffraksjonsbildene ser ut i de forskjellige områdene.\n",
    "\n",
    "Dette brukes til å finne ut hva slags krystall-struktur vi har.\n",
    "\n",
    "En enkel måte å utforske dataene er å \"transpose\" dataene. Lag et nytt signal `s_T` ved å gjøre `s.T`"
   ]
  },
  {
   "cell_type": "code",
   "execution_count": null,
   "id": "f2186fd2-8e45-4193-8cca-7433907a5c34",
   "metadata": {},
   "outputs": [],
   "source": []
  },
  {
   "cell_type": "markdown",
   "id": "35d72071-cc9f-44a5-95f2-b33abdd06df6",
   "metadata": {},
   "source": [
    "Deretter plot dette `s_T`, trykk på navigasjons-vinduet og trykk på \"L\"-knappen for å plotte dette i log-log.\n",
    "\n",
    "Deretter, bruk \"Shift\"-knappen + venstre muse-knapp for hoppe til de forskjellige diffraksjons-diskene."
   ]
  },
  {
   "cell_type": "code",
   "execution_count": null,
   "id": "522e4c47-9445-4a3a-bdad-7400422ce948",
   "metadata": {},
   "outputs": [],
   "source": []
  },
  {
   "cell_type": "markdown",
   "id": "1326201b-634c-407d-a52c-e9566b8ffa20",
   "metadata": {},
   "source": [
    "## Finne diffraksjonsmønstre"
   ]
  },
  {
   "cell_type": "markdown",
   "id": "4b106fa2-5674-4719-87bf-3c1f2a45a718",
   "metadata": {},
   "source": [
    "Etter å ha utforsket materialet litt, så finn noen interessante områder. Noter ned x- og y-posisjonene til disse.\n",
    "\n",
    "Så, bruk `.inav` til å plukke ut disse posisjonene, som du kan bruke til å lage signal med diffraksjonsbilder. Dette bruker dere så til å lage plot med både navigasjonssignal, og med diffraksjonsbildene. Dette for å vise hva slags strukturer vi har.\n",
    "\n",
    "Bruk `.inav[x, y]` til å lage signaler: `s_diff0`, `s_diff1`, ... som viser hvordan strukturen er på forskjellige steder.\n",
    "\n",
    "For noen av disse posisjonen, så kan signalet være litt dårlig. Hvis dette er tilfellet, så kan dere summere de nærliggende probe-posisjonene. F.eks. ved å bruke `s.inav[x0:x1, y0:y1].sum()`.\n",
    "\n",
    "Merk: disse er `lazy` signaler, så kjør `.compute()` på dem!"
   ]
  },
  {
   "cell_type": "code",
   "execution_count": null,
   "id": "b84a7266-a75c-49ae-92b7-d2aa65b4ad0f",
   "metadata": {},
   "outputs": [],
   "source": [
    "\n"
   ]
  },
  {
   "cell_type": "code",
   "execution_count": null,
   "id": "6dc998b3-5da4-41ff-946f-8b1c6b15f681",
   "metadata": {},
   "outputs": [],
   "source": [
    "\n"
   ]
  },
  {
   "cell_type": "code",
   "execution_count": null,
   "id": "b666a9fc-a157-424e-8905-d84fb889f6b2",
   "metadata": {},
   "outputs": [],
   "source": [
    "\n"
   ]
  },
  {
   "cell_type": "code",
   "execution_count": null,
   "id": "ce6e0f03-b38d-426f-a7cd-6942e5c745eb",
   "metadata": {},
   "outputs": [],
   "source": [
    "\n"
   ]
  },
  {
   "cell_type": "markdown",
   "id": "1489f759-520c-486f-884b-68696d1a00f0",
   "metadata": {},
   "source": [
    "### Lage oversiktsbilde\n",
    "\n",
    "En enkel måte å lage et oversiktsbilde, er å summere intensiteten i diffraksjonsmønsteret. Gjør dette med `sum` funksjonen i `s`, bruk argumentet `axis=(-1, -2)`.\n",
    "\n",
    "Lag en ny variabel: `s_oversikt`"
   ]
  },
  {
   "cell_type": "code",
   "execution_count": null,
   "id": "9dc42504-35de-4fc9-95a7-416495aa96c1",
   "metadata": {},
   "outputs": [],
   "source": []
  },
  {
   "cell_type": "markdown",
   "id": "6b649480-9add-4c76-8583-e1284d10424c",
   "metadata": {},
   "source": [
    "Så kjør `compute()` funksjonen i `s_oversikt`"
   ]
  },
  {
   "cell_type": "code",
   "execution_count": null,
   "id": "f33d175a-2486-45c3-97e1-ac82bc2a4032",
   "metadata": {},
   "outputs": [],
   "source": []
  },
  {
   "cell_type": "markdown",
   "id": "afa456ef-877a-479c-a1f2-620bbd940eb2",
   "metadata": {},
   "source": [
    "## Lage figur\n",
    "\n",
    "Bruk disse til å lage en figur med oversiktsbilde + diffraksjonsbilder.\n",
    "\n",
    "Noe som ligner på eksemplet helt i starten av denne Notebooken.\n",
    "\n",
    "### Plotting av diffraksjonsbilder\n",
    "\n",
    "Disse har ofte veldig store variasjoner i intensitet, så det er best å plotte disse i log-log plot. Gjør dette med:\n",
    "\n",
    "```python\n",
    "import matplotlib.colors as colors\n",
    "norm = colors.SymLogNorm(1, vmin=1, vmax=s_diff0.data.max())\n",
    "```\n",
    "\n",
    "Så bruk `ax.imshow(..., norm=norm)`. Ergo så må dette gjøres for hvert diffraksjonsbilde"
   ]
  },
  {
   "cell_type": "code",
   "execution_count": null,
   "id": "23ae78c6-1b7c-425d-9642-f412699fce68",
   "metadata": {},
   "outputs": [],
   "source": [
    "\n",
    "\n",
    "\n",
    "\n",
    "\n",
    "\n"
   ]
  },
  {
   "cell_type": "code",
   "execution_count": null,
   "id": "ea1fdbb3-4ba1-46a5-851b-6e885df25caf",
   "metadata": {},
   "outputs": [],
   "source": []
  },
  {
   "cell_type": "code",
   "execution_count": null,
   "id": "0f482931-7ea9-45d6-a14e-2c9a2ca6ae33",
   "metadata": {},
   "outputs": [],
   "source": []
  },
  {
   "cell_type": "code",
   "execution_count": null,
   "id": "eb030504-dbe4-43af-bbbb-bbc6150210cc",
   "metadata": {},
   "outputs": [],
   "source": []
  },
  {
   "cell_type": "code",
   "execution_count": null,
   "id": "cdfb7d64-bb5d-4f5e-972e-e4c2c005e2d5",
   "metadata": {},
   "outputs": [],
   "source": []
  },
  {
   "cell_type": "code",
   "execution_count": null,
   "id": "1cc72dfa-8f42-4fd4-9785-14b84178722e",
   "metadata": {},
   "outputs": [],
   "source": []
  },
  {
   "cell_type": "code",
   "execution_count": null,
   "id": "9a8f355a-3875-45a3-9233-283c7531f9db",
   "metadata": {},
   "outputs": [],
   "source": []
  },
  {
   "cell_type": "code",
   "execution_count": null,
   "id": "03e617f8-470d-4483-822b-da7ab01d6b33",
   "metadata": {},
   "outputs": [],
   "source": []
  },
  {
   "cell_type": "code",
   "execution_count": null,
   "id": "5adf86ba-9702-4946-adde-7aacdabd0ba9",
   "metadata": {},
   "outputs": [],
   "source": [
    "\n",
    "\n"
   ]
  },
  {
   "cell_type": "code",
   "execution_count": null,
   "id": "5b92346b-3174-4071-b971-3582f4d78540",
   "metadata": {},
   "outputs": [],
   "source": [
    "\n",
    "\n",
    "\n",
    "\n",
    "\n",
    "\n",
    "\n",
    "\n"
   ]
  },
  {
   "cell_type": "code",
   "execution_count": null,
   "id": "2e1fc5c7-860a-4230-816c-d787b44e8fcc",
   "metadata": {},
   "outputs": [],
   "source": [
    "\n",
    "\n"
   ]
  },
  {
   "cell_type": "code",
   "execution_count": null,
   "id": "3e9d50b7-25e5-4e0c-a8e7-55687bbfbcfd",
   "metadata": {},
   "outputs": [],
   "source": [
    "\n"
   ]
  },
  {
   "cell_type": "code",
   "execution_count": null,
   "id": "11e77932-61e8-439a-ab44-f07d93243786",
   "metadata": {},
   "outputs": [],
   "source": [
    "\n"
   ]
  }
 ],
 "metadata": {
  "kernelspec": {
   "display_name": "Python 3 (ipykernel)",
   "language": "python",
   "name": "python3"
  },
  "language_info": {
   "codemirror_mode": {
    "name": "ipython",
    "version": 3
   },
   "file_extension": ".py",
   "mimetype": "text/x-python",
   "name": "python",
   "nbconvert_exporter": "python",
   "pygments_lexer": "ipython3",
   "version": "3.11.10"
  }
 },
 "nbformat": 4,
 "nbformat_minor": 5
}
