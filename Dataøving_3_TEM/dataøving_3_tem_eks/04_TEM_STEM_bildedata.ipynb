{
 "cells": [
  {
   "cell_type": "markdown",
   "id": "e3eda48d-b6a8-4310-8dbc-372b0819ee3c",
   "metadata": {},
   "source": [
    "# Plotting av TEM bildedata\n",
    "\n",
    "Målet med denne Jupyter Notebooken er at dere skal bli litt kjent med HyperSpy, og hvordan dere kan både åpne og visualisere TEM data. Disse er vanligvis i DM3-formatet, hvor HyperSpy kan lese både dataen og metadataen.\n",
    "\n",
    "Denne kunnskapen blir nyttig i neste Notebook, hvor dere skal prosessere mer avansert data: STEM - Differential Phase Constrast (DPC) og Scanning Electron Diffraction (SED). I tillegg skal HyperSpy sin spektroskopi-funksjonalitet brukes i neste øving, til å analysere data fram SEMen.\n",
    "\n",
    "## Instruksjoner\n",
    "\n",
    "Før dere begynner med denne Jupyter Notebooken er det viktig at dere har gått igjennom instruksjonene:\n",
    "\n",
    "- Rigge opp \"pyxem\" environment, som har alle python pakkene dere trenger: `pyxem`, `hyperspy`, `hyperspy-gui-ipywidgets`, `hyperspy-gui-traitsui`, `ipympl` og `jupyterlab`\n",
    "- Aktivere dette \"pyxem\" environment\n",
    "- Ha dataene i samme mappe som Jupyter Notebookene\n",
    "\n",
    "## Blackboard levering\n",
    "\n",
    "Fra denne Jupyter Notebooken skal dere levere både bildefil og HTML-versjon av Jupyter Notebooken dere brukte til å lage bildefilen. HTML-filen må være i en ZIP-fil.\n",
    "\n",
    "Eksempel på hvordan bildet kan se ut, med skala-indikator, \"høy-kontrast\" tekst, og litt annoteringer. Merk at dere skal ikke bruke akkurat de annoteringene: bildet er bare en indikator for hvordan denne typen figurer burde se ut.\n",
    "\n",
    "<img src=\"bilder/eksempelbilde.jpg\" width=300 height=300 />\n",
    "\n",
    "Merk at dere skal OGSÅ levere bildefil og HTML-versjon av Jupyter Notebooken for enten STEM-DPC eller SED: se de andre Notebooken (05 og 06) for mer informasjon om dette."
   ]
  },
  {
   "cell_type": "markdown",
   "id": "e4d036b6-379e-4917-ad6e-6b5c0a2c2421",
   "metadata": {},
   "source": [
    "## Importere plotte-bibliotek og `hyperspy`\n",
    "\n",
    "Først må plotte-biblioteket defineres, med `%matplotlib qt`, eller `%matplotlib widget`. Jeg anbefaler `%matplotlib qt`. Av og til så virker den ikke, i dette tilfellet, bruk `widget`."
   ]
  },
  {
   "cell_type": "code",
   "execution_count": 1,
   "id": "fa876863-2d91-4a21-bfdc-891032b42692",
   "metadata": {},
   "outputs": [],
   "source": [
    "%matplotlib qt"
   ]
  },
  {
   "cell_type": "markdown",
   "id": "98c09850-9e78-4772-9edb-015e152942f5",
   "metadata": {},
   "source": [
    "Så importer `hyperspy.api` som `hs`.\n",
    "\n",
    "Dere kan få en `WARNING:hyperspy_gui_...`. Denne kan ignoreres."
   ]
  },
  {
   "cell_type": "code",
   "execution_count": 2,
   "id": "85b05e09-b34f-4b3b-bd9e-7119891d7879",
   "metadata": {},
   "outputs": [],
   "source": [
    "import hyperspy.api as hs"
   ]
  },
  {
   "cell_type": "markdown",
   "id": "346a870f-1595-4ba5-becf-f597554d72d9",
   "metadata": {},
   "source": [
    "## Åpne dataset\n",
    "\n",
    "Dette gjøres via `hs.load`, som kan åpne en rekke dataformater, spesielt innenfor elektronmikroskopi. \n",
    "\n",
    "Velg en av datasettene deres som har filformat `.dm3`. Gjerne en av de som dere kan tenke å bruke i labrapporten deres.\n",
    "\n",
    "Lag et objekt som heter `s`.\n",
    "\n",
    "Tips: sjekk docstring for informasjon om hvordan `hs.load` virker."
   ]
  },
  {
   "cell_type": "code",
   "execution_count": 3,
   "id": "3c0a5d24-7f51-4c7c-be12-895510269428",
   "metadata": {},
   "outputs": [],
   "source": [
    "s = hs.load('/Users/toham1999/Koding/24H 5.semester/Nanoverktøy/Dataøving_3_TEM/dataøving_3_tem_eks/datasett/annular_dark_field_data.dm3')"
   ]
  },
  {
   "cell_type": "markdown",
   "id": "b41a8c43-81be-4b60-83ae-f3c38e1c214f",
   "metadata": {},
   "source": [
    "Dette lager et `Signal2D` objekt, som inneholder mange forskjellige funksjoner.\n",
    "\n",
    "En av disse er en plotte-funksjon, som visualiserer dataene.\n",
    "\n",
    "Bruk `plot` funksjonen, som er en del av `s` objektet. Hvis du har brukt `%matplotlib qt` så åpnes dette som et eget vindu, dette kommer ofte \"bak\" nettleseren denne Notebooken er i. Så hvis vinduet ikke blir synlig, prøv å minimer nettleseren.\n",
    "\n",
    "Hvis du bruker `%matplotlib widget` så kommer plottet rett i notebooken."
   ]
  },
  {
   "cell_type": "code",
   "execution_count": 4,
   "id": "a59b50c0-be36-46fc-a03f-536a05d7190d",
   "metadata": {},
   "outputs": [
    {
     "data": {
      "text/plain": [
       "<Signal2D, title: JEOL BF _ ADF_x300k, dimensions: (|1024, 1024)>"
      ]
     },
     "execution_count": 4,
     "metadata": {},
     "output_type": "execute_result"
    }
   ],
   "source": [
    "s"
   ]
  },
  {
   "cell_type": "markdown",
   "id": "af1c7a0a-51ec-46e1-9167-5484973af69d",
   "metadata": {},
   "source": [
    "Dette er et interaktivt plot. Merk at dataene er automatisk kalibrert, ved at det er en scalebar med enten nano eller mikrometer.\n",
    "\n",
    "I tillegg kan kontrasten endres med kontrast editoren: trykk på bildet, og så trykk på `H` knappen. Merk at dette bare virker med `%matplotlib qt`. Hvis du må bruke `%matplotlib widget`, så kan dette endres med `s.plot(vmin=0, vmax=1000)`.\n",
    "\n",
    "Dette endrer bare visualiseringen i plottet, ikke dataene. Her er dette bare for å vise funksjonalitetene, dere trenger ikke å gjøre noe spesielt med dette plottet."
   ]
  },
  {
   "cell_type": "markdown",
   "id": "7e857f7e-0136-4ec0-acf5-67a1aeb93fa5",
   "metadata": {},
   "source": [
    "## `Signal2D` strukturen\n",
    "\n",
    "Denne måten å jobbe med data er veldig praktisk, siden funksjonene finnes i data-objektet (signalet). Selve dataene er en NumPy array.\n",
    "\n",
    "Skriv `s.data`, og kjør cellen."
   ]
  },
  {
   "cell_type": "code",
   "execution_count": 5,
   "id": "82822710-4f56-47f1-86ad-853cfd4d224c",
   "metadata": {},
   "outputs": [
    {
     "data": {
      "text/plain": [
       "array([[674183, 639611, 667666, ..., 750693, 712613, 761718],\n",
       "       [655082, 642951, 616608, ..., 760770, 718168, 769597],\n",
       "       [680179, 607293, 630039, ..., 716128, 718371, 703630],\n",
       "       ...,\n",
       "       [     0,      0,      0, ..., 778246, 830771, 824499],\n",
       "       [     0,      0,      0, ..., 792662, 787962, 824042],\n",
       "       [     0,      0,      0, ..., 834342, 898970, 857274]],\n",
       "      dtype=uint32)"
      ]
     },
     "execution_count": 5,
     "metadata": {},
     "output_type": "execute_result"
    }
   ],
   "source": [
    "s.data"
   ]
  },
  {
   "cell_type": "markdown",
   "id": "a6685740-fad0-458d-95ac-470a9930dc2d",
   "metadata": {},
   "source": [
    "Her kan vi se alle tall-verdiene til dataene i plottet vi så tidligere.\n",
    "\n",
    "Men dette er bare selve dataene, metadatanene sånn som kablibrering er i `s.axes_manager`. Prøv dette."
   ]
  },
  {
   "cell_type": "code",
   "execution_count": 6,
   "id": "aa9b0701-3e1e-459f-81c6-b1efce5172db",
   "metadata": {},
   "outputs": [
    {
     "data": {
      "text/html": [
       "<style>\n",
       "table, th, td {\n",
       "\tborder: 1px solid black;\n",
       "\tborder-collapse: collapse;\n",
       "}\n",
       "th, td {\n",
       "\tpadding: 5px;\n",
       "}\n",
       "</style>\n",
       "<p><b>< Axes manager, axes: (|1024, 1024) ></b></p>\n",
       "<table style='width:100%'>\n",
       "\n",
       "<tr> \n",
       "<th>Signal axis name</th> \n",
       "<th>size</th> \n",
       "<th></th> \n",
       "<th>offset</th> \n",
       "<th>scale</th> \n",
       "<th>units</th> </tr>\n",
       "<tr> \n",
       "<td>x</td> \n",
       "<td>1024</td> \n",
       "<td></td> \n",
       "<td>-0.0</td> \n",
       "<td>0.4938656985759735</td> \n",
       "<td>nm</td> </tr>\n",
       "<tr> \n",
       "<td>y</td> \n",
       "<td>1024</td> \n",
       "<td></td> \n",
       "<td>-0.0</td> \n",
       "<td>0.4938656985759735</td> \n",
       "<td>nm</td> </tr></table>\n"
      ],
      "text/plain": [
       "<Axes manager, axes: (|1024, 1024)>\n",
       "            Name |   size |  index |  offset |   scale |  units \n",
       "================ | ====== | ====== | ======= | ======= | ====== \n",
       "---------------- | ------ | ------ | ------- | ------- | ------ \n",
       "               x |   1024 |      0 |      -0 |    0.49 |     nm \n",
       "               y |   1024 |      0 |      -0 |    0.49 |     nm "
      ]
     },
     "execution_count": 6,
     "metadata": {},
     "output_type": "execute_result"
    }
   ],
   "source": [
    "s.axes_manager"
   ]
  },
  {
   "cell_type": "markdown",
   "id": "e29496de-7d48-47c8-9a91-135789f24bfe",
   "metadata": {},
   "source": [
    "Disse tallene er vanligvis riktige, men alltid sjekk at de ser rimlige ut! For \"standard\" moduser så pleier de å være greie, men f.eks. i STEM-DPC data så er det mest sannsylig feil. Den vanligste måten å sjekke disse kalibreringene, er via objekter med kjente størrelser. For eksempel størrelsen på \"vinduene\", eller hvis man har atomæroppløsning så kan man bruke atomgitteret.\n",
    "\n",
    "For å kalibrere dataene, så kan dere bruke `s.calibrate` funksjonen. Denne åpner opp et plotte-vindu av signalet, og en interaktiv linje."
   ]
  },
  {
   "cell_type": "code",
   "execution_count": 7,
   "id": "182e8ed2-7b6e-4b2e-a8ee-c222e7aabb9c",
   "metadata": {},
   "outputs": [],
   "source": [
    "#s.calibrate()"
   ]
  },
  {
   "cell_type": "markdown",
   "id": "183f8c13-4a4f-4641-9478-0b67100ba353",
   "metadata": {},
   "source": [
    "### Metadata\n",
    "\n",
    "Andre metadata finner dere i `s.metadata`. Finn ut hva akselerasjonsspenningen (beam energy) var, via `Acquisition_instrument` - `TEM` (Trykk på pilen)"
   ]
  },
  {
   "cell_type": "code",
   "execution_count": 8,
   "id": "e363591f-7aa2-4210-829c-0c8b6cf77909",
   "metadata": {},
   "outputs": [
    {
     "data": {
      "text/html": [
       "<ul style=\"margin: 0px; list-style-position: outside;\">\n",
       "                    <details open>\n",
       "                    <summary style=\"display: list-item;\">\n",
       "                    <li style=\"display: inline;\">\n",
       "                    Acquisition_instrument\n",
       "                    </li></summary>\n",
       "                    <ul style=\"margin: 0px; list-style-position: outside;\">\n",
       "                    <details closed>\n",
       "                    <summary style=\"display: list-item;\">\n",
       "                    <li style=\"display: inline;\">\n",
       "                    TEM\n",
       "                    </li></summary>\n",
       "                    \n",
       "    <ul style=\"margin: 0px; list-style-position: outside;\">\n",
       "    <li style='margin-left:1em; padding-left: 0.5em'>acquisition_mode = STEM</li></ul>\n",
       "    \n",
       "    <ul style=\"margin: 0px; list-style-position: outside;\">\n",
       "    <li style='margin-left:1em; padding-left: 0.5em'>beam_current = 0.0</li></ul>\n",
       "    \n",
       "    <ul style=\"margin: 0px; list-style-position: outside;\">\n",
       "    <li style='margin-left:1em; padding-left: 0.5em'>beam_energy = 200.0</li></ul>\n",
       "    \n",
       "    <ul style=\"margin: 0px; list-style-position: outside;\">\n",
       "    <li style='margin-left:1em; padding-left: 0.5em'>camera_length = 200.0</li></ul>\n",
       "    \n",
       "    <ul style=\"margin: 0px; list-style-position: outside;\">\n",
       "    <li style='margin-left:1em; padding-left: 0.5em'>dwell_time = 2e-05</li></ul>\n",
       "    \n",
       "    <ul style=\"margin: 0px; list-style-position: outside;\">\n",
       "    <li style='margin-left:1em; padding-left: 0.5em'>magnification = 300000.0</li></ul>\n",
       "    \n",
       "    <ul style=\"margin: 0px; list-style-position: outside;\">\n",
       "    <li style='margin-left:1em; padding-left: 0.5em'>microscope = 2100F</li></ul>\n",
       "    </details></ul></details></ul><ul style=\"margin: 0px; list-style-position: outside;\">\n",
       "                    <details open>\n",
       "                    <summary style=\"display: list-item;\">\n",
       "                    <li style=\"display: inline;\">\n",
       "                    General\n",
       "                    </li></summary>\n",
       "                    <ul style=\"margin: 0px; list-style-position: outside;\">\n",
       "                    <details closed>\n",
       "                    <summary style=\"display: list-item;\">\n",
       "                    <li style=\"display: inline;\">\n",
       "                    FileIO\n",
       "                    </li></summary>\n",
       "                    <ul style=\"margin: 0px; list-style-position: outside;\">\n",
       "                    <details closed>\n",
       "                    <summary style=\"display: list-item;\">\n",
       "                    <li style=\"display: inline;\">\n",
       "                    0\n",
       "                    </li></summary>\n",
       "                    \n",
       "    <ul style=\"margin: 0px; list-style-position: outside;\">\n",
       "    <li style='margin-left:1em; padding-left: 0.5em'>hyperspy_version = 2.1.1</li></ul>\n",
       "    \n",
       "    <ul style=\"margin: 0px; list-style-position: outside;\">\n",
       "    <li style='margin-left:1em; padding-left: 0.5em'>io_plugin = rsciio.digitalmicrograph</li></ul>\n",
       "    \n",
       "    <ul style=\"margin: 0px; list-style-position: outside;\">\n",
       "    <li style='margin-left:1em; padding-left: 0.5em'>operation = load</li></ul>\n",
       "    \n",
       "    <ul style=\"margin: 0px; list-style-position: outside;\">\n",
       "    <li style='margin-left:1em; padding-left: 0.5em'>timestamp = 2024-10-24T18:59:17.338568+02:00</li></ul>\n",
       "    </details></ul></details></ul>\n",
       "    <ul style=\"margin: 0px; list-style-position: outside;\">\n",
       "    <li style='margin-left:1em; padding-left: 0.5em'>authors = Emil Christiansen</li></ul>\n",
       "    \n",
       "    <ul style=\"margin: 0px; list-style-position: outside;\">\n",
       "    <li style='margin-left:1em; padding-left: 0.5em'>date = 2021-03-07</li></ul>\n",
       "    \n",
       "    <ul style=\"margin: 0px; list-style-position: outside;\">\n",
       "    <li style='margin-left:1em; padding-left: 0.5em'>original_filename = annular_dark_field_data.dm3</li></ul>\n",
       "    \n",
       "    <ul style=\"margin: 0px; list-style-position: outside;\">\n",
       "    <li style='margin-left:1em; padding-left: 0.5em'>time = 12:15:17</li></ul>\n",
       "    \n",
       "    <ul style=\"margin: 0px; list-style-position: outside;\">\n",
       "    <li style='margin-left:1em; padding-left: 0.5em'>title = JEOL BF _ ADF_x300k</li></ul>\n",
       "    </details></ul><ul style=\"margin: 0px; list-style-position: outside;\">\n",
       "                    <details open>\n",
       "                    <summary style=\"display: list-item;\">\n",
       "                    <li style=\"display: inline;\">\n",
       "                    Sample\n",
       "                    </li></summary>\n",
       "                    \n",
       "    <ul style=\"margin: 0px; list-style-position: outside;\">\n",
       "    <li style='margin-left:1em; padding-left: 0.5em'>description = TEDPELLA673_500nmGrid</li></ul>\n",
       "    </details></ul><ul style=\"margin: 0px; list-style-position: outside;\">\n",
       "                    <details open>\n",
       "                    <summary style=\"display: list-item;\">\n",
       "                    <li style=\"display: inline;\">\n",
       "                    Signal\n",
       "                    </li></summary>\n",
       "                    <ul style=\"margin: 0px; list-style-position: outside;\">\n",
       "                    <details closed>\n",
       "                    <summary style=\"display: list-item;\">\n",
       "                    <li style=\"display: inline;\">\n",
       "                    Noise_properties\n",
       "                    </li></summary>\n",
       "                    <ul style=\"margin: 0px; list-style-position: outside;\">\n",
       "                    <details closed>\n",
       "                    <summary style=\"display: list-item;\">\n",
       "                    <li style=\"display: inline;\">\n",
       "                    Variance_linear_model\n",
       "                    </li></summary>\n",
       "                    \n",
       "    <ul style=\"margin: 0px; list-style-position: outside;\">\n",
       "    <li style='margin-left:1em; padding-left: 0.5em'>gain_factor = 1.0</li></ul>\n",
       "    \n",
       "    <ul style=\"margin: 0px; list-style-position: outside;\">\n",
       "    <li style='margin-left:1em; padding-left: 0.5em'>gain_offset = 0.0</li></ul>\n",
       "    </details></ul></details></ul>\n",
       "    <ul style=\"margin: 0px; list-style-position: outside;\">\n",
       "    <li style='margin-left:1em; padding-left: 0.5em'>quantity = Intensity</li></ul>\n",
       "    \n",
       "    <ul style=\"margin: 0px; list-style-position: outside;\">\n",
       "    <li style='margin-left:1em; padding-left: 0.5em'>signal_type = </li></ul>\n",
       "    </details></ul>"
      ],
      "text/plain": [
       "├── Acquisition_instrument\n",
       "│   └── TEM\n",
       "│       ├── acquisition_mode = STEM\n",
       "│       ├── beam_current = 0.0\n",
       "│       ├── beam_energy = 200.0\n",
       "│       ├── camera_length = 200.0\n",
       "│       ├── dwell_time = 2e-05\n",
       "│       ├── magnification = 300000.0\n",
       "│       └── microscope = 2100F\n",
       "├── General\n",
       "│   ├── FileIO\n",
       "│   │   └── 0\n",
       "│   │       ├── hyperspy_version = 2.1.1\n",
       "│   │       ├── io_plugin = rsciio.digitalmicrograph\n",
       "│   │       ├── operation = load\n",
       "│   │       └── timestamp = 2024-10-24T18:59:17.338568+02:00\n",
       "│   ├── authors = Emil Christiansen\n",
       "│   ├── date = 2021-03-07\n",
       "│   ├── original_filename = annular_dark_field_data.dm3\n",
       "│   ├── time = 12:15:17\n",
       "│   └── title = JEOL BF _ ADF_x300k\n",
       "├── Sample\n",
       "│   └── description = TEDPELLA673_500nmGrid\n",
       "└── Signal\n",
       "    ├── Noise_properties\n",
       "    │   └── Variance_linear_model\n",
       "    │       ├── gain_factor = 1.0\n",
       "    │       └── gain_offset = 0.0\n",
       "    ├── quantity = Intensity\n",
       "    └── signal_type = "
      ]
     },
     "execution_count": 8,
     "metadata": {},
     "output_type": "execute_result"
    }
   ],
   "source": [
    "s.metadata"
   ]
  },
  {
   "cell_type": "markdown",
   "id": "f45e63e7-dd2f-4c2b-b7c8-c1b4ce0898bf",
   "metadata": {},
   "source": [
    "Her finner man informasjon om mikroskopet, sånn som akselerasjonspenning. Informasjon om prøven er ting man vanligvis må manuelt skrive inn, så denne informasjon er ganske ofte feil."
   ]
  },
  {
   "cell_type": "markdown",
   "id": "243e0f06-8408-403d-8c0f-15cb2420cc0d",
   "metadata": {},
   "source": [
    "### Måle avstander\n",
    "\n",
    "En viktig del av mikroskopi-data, er å måle størrelse på objekter. Først, kjør cellen under."
   ]
  },
  {
   "cell_type": "code",
   "execution_count": 9,
   "id": "35fa9271-84c7-421d-8c6e-262afedfd1df",
   "metadata": {},
   "outputs": [],
   "source": [
    "def get_line_profile(s):\n",
    "    roi = hs.roi.Line2DROI(linewidth=0.5)\n",
    "    s.plot()\n",
    "    s_roi = roi.interactive(s)\n",
    "    s_roi.plot(autoscale=\"xyv\")\n",
    "    roi_span = hs.roi.SpanROI()\n",
    "    roi_span.interactive(s_roi)\n",
    "    return roi_span"
   ]
  },
  {
   "cell_type": "markdown",
   "id": "49482295-d0dd-486d-94b8-de53538e4008",
   "metadata": {},
   "source": [
    "Deretter bruk `s` variablen som parameter inn i `get_line_profile`, og lagre resultatet av dette som `roi_span`."
   ]
  },
  {
   "cell_type": "markdown",
   "id": "ae4077d6-dec3-4004-b090-4d3c2af37876",
   "metadata": {},
   "source": [
    "`roi_span` har to \"attributes\", som inneholder venstre og høyre posisjonen til \"span\" i linjeprofil-plottet. Disse er `left` og `right`.\n",
    "\n",
    "Regn ut lengden ved å trekke disse fra hverandre, og lagre det som ny variabel `span_length`."
   ]
  },
  {
   "cell_type": "code",
   "execution_count": 10,
   "id": "95770d4c-76ff-486c-83bf-a279dad1e90e",
   "metadata": {},
   "outputs": [],
   "source": [
    "roi_span = get_line_profile(s)"
   ]
  },
  {
   "cell_type": "markdown",
   "id": "90bd75a5-c0c4-470e-ac2c-585b933b625f",
   "metadata": {},
   "source": [
    "## Plotting av data\n",
    "\n",
    "Laging av bildefiler er veldig likt som for FIB-bildene, men det er et par triks.\n",
    "\n",
    "Først importer `matplotlib.pyplot` som `plt`, og lag en `fig` og `ax` via `plt.subplots`.\n",
    "Deretter bruk `imshow` i `ax`, med `s.data` som bildedata, og `s.axes_manager.signal_extent` som `extent`."
   ]
  },
  {
   "cell_type": "code",
   "execution_count": 19,
   "id": "80917d44-76e3-45a5-91ba-64ad6cd2713e",
   "metadata": {},
   "outputs": [
    {
     "data": {
      "text/plain": [
       "<matplotlib.image.AxesImage at 0x181a69330>"
      ]
     },
     "execution_count": 19,
     "metadata": {},
     "output_type": "execute_result"
    }
   ],
   "source": [
    "import matplotlib.pyplot as plt\n",
    "fig, ax = plt.subplots(figsize=(6,5))\n",
    "ax.imshow(s.data, extent=s.axes_manager.signal_extent)"
   ]
  },
  {
   "cell_type": "markdown",
   "id": "6c5e78a3-f485-403f-971c-3e88228a4f22",
   "metadata": {},
   "source": [
    "Så kan man bruke akkurat de samme plotte-funksjonene som med FIB-dataene."
   ]
  },
  {
   "cell_type": "markdown",
   "id": "1bb0f969-53cd-4358-8cb0-daa14500bad3",
   "metadata": {},
   "source": [
    "### Endre på kontrast: `clim`\n",
    "\n",
    "Et vanlig problem i denne type data er store forskjeller i intensitet i bildet. Ergo at det er veldig lyse og veldig mørke området, som gjør det vanskelig å se detaljene man er interessert i.\n",
    "\n",
    "En løsning på dette er å lagre `AxesImage` som en variabel (`cax = ax.imshow(.....)`, og bruke `set_clim` funksjonen i `cax`.\n",
    "\n",
    "Tips\n",
    "- Bruk `get_clim` for å se hva de automatiske verdiene er, og bruk disse som et utgangspunkt\n",
    "- Sjekk docstring til `set_clim` for å se hvordan den virker (`Shift` + `Tab`)"
   ]
  },
  {
   "cell_type": "code",
   "execution_count": 20,
   "id": "9503ce89-ff56-4db5-8604-9d9b69b53b88",
   "metadata": {},
   "outputs": [
    {
     "ename": "",
     "evalue": "",
     "output_type": "error",
     "traceback": [
      "\u001b[1;31mThe Kernel crashed while executing code in the the current cell or a previous cell. Please review the code in the cell(s) to identify a possible cause of the failure. Click <a href='https://aka.ms/vscodeJupyterKernelCrash'>here</a> for more info. View Jupyter <a href='command:jupyter.viewOutput'>log</a> for further details."
     ]
    }
   ],
   "source": [
    "cax = ax.imshow(s.data, extent=s.axes_manager.signal_extent,cmap='turbo')\n",
    "cax.set_clim()\n",
    "ori ='vertical'\n",
    "padd=0.02\n",
    "fig.colorbar(cax, ax=ax, label='Grain orientation',orientation=ori,pad=padd)\n",
    "ax.set_xticks([]),ax.set_yticks([])\n",
    "ax.annotate(text='A', xy=(0.03, 0.93), xycoords='axes fraction',fontsize=14, color='white', fontweight='bold')\n",
    "\n",
    "\n",
    "from mpl_toolkits.axes_grid1.anchored_artists import AnchoredSizeBar\n",
    "import matplotlib.font_manager as fm\n",
    "import matplotlib.patheffects as patheffects\n",
    "fontprops = fm.FontProperties(size=14)\n",
    "scalebar_kwargs = {'size': 100, 'label': '100 nm', 'loc': 4, 'frameon': False, 'color': 'white', 'size_vertical': 10, 'label_top': False, 'fontproperties': fontprops}\n",
    "scalebar = AnchoredSizeBar(transform=ax.transData, **scalebar_kwargs)\n",
    "# Denne legger til et svart omriss rundt scalebar teksten, for å gjøre den lettere å lese\n",
    "scalebar.txt_label._text.set_path_effects([patheffects.withStroke(linewidth=2, foreground='black', capstyle=\"round\")])\n",
    "ax.add_artist(scalebar)\n",
    "\n",
    "\n",
    "fig.savefig('04_TEM.png',bbox_inches='tight',dpi=300)"
   ]
  },
  {
   "cell_type": "markdown",
   "id": "edd516cb-0060-4bd1-aad7-ed9b416ca363",
   "metadata": {},
   "source": [
    "# TEM-data-figur\n",
    "\n",
    "Bruk denne Notebooken i tillegg til kunnskapen og koden dere brukte i FIB-øvingen til å lage en bildefil med TEM-data, gjerne en dere tenker å bruke i labrapporten.\n",
    "\n",
    "Denne skal ha samme \"format\" som FIB-bildet:\n",
    "\n",
    "- Inneholde et eller flere bilder\n",
    "- Ha scalebar\n",
    "- Noen annoteringer"
   ]
  },
  {
   "cell_type": "code",
   "execution_count": null,
   "id": "6cdddb28-1550-4fce-8949-aeddb28544c1",
   "metadata": {},
   "outputs": [],
   "source": []
  },
  {
   "cell_type": "markdown",
   "id": "3066c446-c447-4903-8368-92eabd185a34",
   "metadata": {},
   "source": [
    "# Neste Jupyter Notebook: STEM-DPC eller SED\n",
    "\n",
    "Nå som dere kan basisen om hvordan HyperSpy virker, så fortsett med enten `..._STEM_DPC...` eller `..._scanning_electron_diffraction_...` notebooken. Dere skal bare levere en av disse på blackboard, men hvis dere har begge datatypene fra TEM-laben så anbefaler jeg å gå igjennom begge."
   ]
  }
 ],
 "metadata": {
  "kernelspec": {
   "display_name": "Python 3.12.2 ('pyxem_2024')",
   "language": "python",
   "name": "python3"
  },
  "language_info": {
   "codemirror_mode": {
    "name": "ipython",
    "version": 3
   },
   "file_extension": ".py",
   "mimetype": "text/x-python",
   "name": "python",
   "nbconvert_exporter": "python",
   "pygments_lexer": "ipython3",
   "version": "3.10.13"
  },
  "vscode": {
   "interpreter": {
    "hash": "d6eae7f0df78b11becaf0334afd9cf9af5448918d87d6aeabe4aad3461cdb5b7"
   }
  }
 },
 "nbformat": 4,
 "nbformat_minor": 5
}
