{
 "cells": [
  {
   "cell_type": "markdown",
   "id": "51a55439-353a-47ab-b167-d7a00de7471f",
   "metadata": {},
   "source": [
    "# STEM-DPC dataprosessering: notebook 2\n",
    "\n",
    "Denne Jupyter Notebook bruker `..._bs.hspy` signalet (beam shift), og `..._vbf.hspy` signalet (virtual bright field) til å fjerne effekten av \"dscan\". Ergo en slags bakgrunnsfjerning.\n",
    "\n",
    "Måten dette gjøres er ved at man tilpasser to plan til beam shift signalet. Et for x-komponenten, og et for y-komponenten. Dette skal man helst gjøre på et område som ikke er magnetisk.\n",
    "\n",
    "For disse datasetten, så bruker vi området som har blitt bombardert med Ga-ioner. Selv om det er mye signal fra disse områdene, så er det primært ikke-magnetisk. Ergo virker det bra for å tilpasse de to planene. Dette gjør vi ved å bruke VBF-signalet:\n",
    "\n",
    "- Først kjører vi \"otsu-threshold\" på VBF-signalet:  `skimage.filters.threshold_otsu`\n",
    "- Så fjerner vi en god del av de små variasjonene: `skimage.morphology.binary_dilation`, og \"åpner\" litt opp med ``skimage.morphology.binary_erosion`\n",
    "- Så får vi en maske, som vi bruker til å finne de to planene\n",
    "- Tilslutt så fjerner vi \"bakgrunnen\" i `..._bs.hspy`, og får et korrigert beam shift signal.\n",
    "\n",
    "Deretter lager den 6 signaler i `002_cor_data`:\n",
    "\n",
    "- \"Bakgrunnsfjernet\" beam shift: `...bs_cor.hspy`\n",
    "- Virtual bright field: `..._vbf.hspy`\n",
    "- x-komponenten av beam shift: `...bs_dpcx.hspy`\n",
    "- y-komponenten av beam shift: `...bs_dpcy.hspy`\n",
    "- Styrken av magnetfeltet: `...bs_mag.hspy`\n",
    "- Masken som blir lagd: `...vbf_mask.hspy`\n",
    "\n",
    "Dette blir brukt i `003_plotte_data.ipynb` for å lage en figur for å sjekke at dataprosesseringen gikk greit. `003_plotte_data.ipynb` har også tips om hvordan dere kan visualisere dataene deres."
   ]
  },
  {
   "cell_type": "code",
   "execution_count": 12,
   "id": "10c71cfb-ae4f-4da4-a971-e5f8d165c1cd",
   "metadata": {},
   "outputs": [],
   "source": [
    "%matplotlib inline\n",
    "from glob import glob\n",
    "import numpy as np\n",
    "from skimage.filters import threshold_otsu\n",
    "from skimage.morphology import binary_dilation, binary_erosion, area_closing\n",
    "import hyperspy.api as hs\n",
    "import gc\n",
    "\n",
    "filename_list_vbf = glob(\"001_data/*_vbf.hspy\")\n",
    "filename_list_bs = glob(\"001_data/*_bs.hspy\")"
   ]
  },
  {
   "cell_type": "markdown",
   "id": "c5e86688-93c8-4678-aa00-962444c678d3",
   "metadata": {},
   "source": [
    "# Prosessere og lagre data"
   ]
  },
  {
   "cell_type": "code",
   "execution_count": 13,
   "id": "0801be16-8423-4f62-8474-518d0200a852",
   "metadata": {},
   "outputs": [
    {
     "name": "stdout",
     "output_type": "stream",
     "text": [
      "[########################################] | 100% Completed | 233.89 ms\n",
      "[########################################] | 100% Completed | 280.56 ms\n",
      "[########################################] | 100% Completed | 277.50 ms\n",
      "[########################################] | 100% Completed | 283.59 ms\n",
      "[########################################] | 100% Completed | 248.16 ms\n",
      "[########################################] | 100% Completed | 276.10 ms\n",
      "[########################################] | 100% Completed | 283.19 ms\n",
      "[########################################] | 100% Completed | 276.81 ms\n",
      "[########################################] | 100% Completed | 273.67 ms\n",
      "[########################################] | 100% Completed | 229.44 ms\n",
      "[########################################] | 100% Completed | 283.08 ms\n",
      "[########################################] | 100% Completed | 277.90 ms\n",
      "[########################################] | 100% Completed | 244.51 ms\n",
      "[########################################] | 100% Completed | 277.26 ms\n",
      "[########################################] | 100% Completed | 270.35 ms\n",
      "[########################################] | 100% Completed | 280.66 ms\n",
      "[########################################] | 100% Completed | 282.58 ms\n"
     ]
    }
   ],
   "source": [
    "#### From magnus ####\n",
    "for filename_vbf, filename_bs in zip(filename_list_vbf, filename_list_bs):\n",
    "    s_vbf = hs.load(filename_vbf)\n",
    "    s_t = threshold_otsu(s_vbf.data)\n",
    "    s_mask = s_vbf > s_t\n",
    "    s_mask_1 = s_mask.map(binary_dilation, inplace=False, show_progressbar=False)\n",
    "    s_mask_2 = s_mask_1.map(binary_dilation, inplace=False, show_progressbar=False)\n",
    "    s_mask_3 = s_mask_2.map(binary_dilation, inplace=False, show_progressbar=False)\n",
    "    s_mask_4 = s_mask_3.map(binary_erosion, inplace=False, show_progressbar=False)\n",
    "    s_mask_5 = s_mask_4.map(binary_erosion, inplace=False, show_progressbar=False)\n",
    "    s_mask_5.data = np.invert(s_mask_5.data)\n",
    "    \n",
    "    s_bs = hs.load(filename_bs)\n",
    "    s_bs_lp = s_bs.get_linear_plane(mask=s_mask_5)\n",
    "    s_bs_cor = s_bs - s_bs_lp\n",
    "    filename_output = filename_bs.replace(\"001_data\", \"002_cor_data\").replace(\".hspy\", \"_cor.hspy\")\n",
    "    filename_vbf = filename_vbf.replace(\"001_data\", \"002_cor_data\")\n",
    "    filename_dpcx = filename_bs.replace(\"001_data\", \"002_cor_data\").replace(\".hspy\", \"_dpcx.hspy\")\n",
    "    filename_dpcy = filename_bs.replace(\"001_data\", \"002_cor_data\").replace(\".hspy\", \"_dpcy.hspy\")\n",
    "    filename_mag = filename_bs.replace(\"001_data\", \"002_cor_data\").replace(\".hspy\", \"_mag.hspy\")\n",
    "    filename_mask_output = filename_vbf.replace(\"001_data\", \"002_cor_data\").replace(\".hspy\", \"_mask.hspy\")\n",
    "    s_bs_cor.save(filename_output, overwrite=True)\n",
    "    s_vbf.save(filename_vbf, overwrite=True)\n",
    "    s_bs_cor.isig[0].T.save(filename_dpcx, overwrite=True)\n",
    "    s_bs_cor.isig[1].T.save(filename_dpcy, overwrite=True)\n",
    "    s_bs_cor.get_magnitude_signal().save(filename_mag, overwrite=True)\n",
    "    s_mask_5.save(filename_mask_output, overwrite=True)"
   ]
  },
  {
   "cell_type": "code",
   "execution_count": 14,
   "id": "18f83e91",
   "metadata": {},
   "outputs": [
    {
     "name": "stdout",
     "output_type": "stream",
     "text": [
      "looking at:  001_data/Av5_deg4.1_bs.hspy\n",
      "[########################################] | 100% Completed | 291.42 ms\n",
      "looking at:  001_data/kompass_deg-10.2_bs.hspy\n",
      "[########################################] | 100% Completed | 240.11 ms\n",
      "looking at:  001_data/Av5_deg9.8_bs.hspy\n",
      "[########################################] | 100% Completed | 277.79 ms\n",
      "looking at:  001_data/Ev5_deg9.9_bs.hspy\n",
      "[########################################] | 100% Completed | 276.27 ms\n",
      "looking at:  001_data/Bv5_deg10.1_bs.hspy\n",
      "[########################################] | 100% Completed | 273.82 ms\n",
      "looking at:  001_data/kompass_deg5_bs.hspy\n",
      "[########################################] | 100% Completed | 479.48 ms\n",
      "looking at:  001_data/Ev5_deg-0.3_bs.hspy\n",
      "[########################################] | 100% Completed | 416.35 ms\n",
      "looking at:  001_data/structure1neg5deg_bs.hspy\n",
      "[########################################] | 100% Completed | 275.42 ms\n",
      "looking at:  001_data/Bv5_deg0.1_bs.hspy\n",
      "[########################################] | 100% Completed | 272.62 ms\n",
      "looking at:  001_data/Bv5_deg-10.2_bs.hspy\n",
      "[########################################] | 100% Completed | 265.91 ms\n",
      "looking at:  001_data/Bv5_deg-5.5_bs.hspy\n",
      "[########################################] | 100% Completed | 273.41 ms\n",
      "looking at:  001_data/Av5_deg-9.9_bs.hspy\n",
      "[########################################] | 100% Completed | 243.75 ms\n",
      "looking at:  001_data/Ev5_deg-5.2_bs.hspy\n",
      "[########################################] | 100% Completed | 274.52 ms\n",
      "looking at:  001_data/Ev5_deg4.7_bs.hspy\n",
      "[########################################] | 100% Completed | 275.60 ms\n",
      "looking at:  001_data/Bv5_deg5.1_bs.hspy\n",
      "[########################################] | 100% Completed | 274.74 ms\n",
      "looking at:  001_data/Ev5_deg-10.2_bs.hspy\n",
      "[########################################] | 100% Completed | 282.20 ms\n",
      "looking at:  001_data/kompass_deg-3_bs.hspy\n",
      "[########################################] | 100% Completed | 255.04 ms\n"
     ]
    }
   ],
   "source": [
    "### Alternative from Jens ###\n",
    "\n",
    "number_of_binary_loops = 10\n",
    "\n",
    "for filename_vbf, filename_bs in zip(filename_list_vbf, filename_list_bs):\n",
    "    print('looking at: ', filename_bs)\n",
    "    s_vbf = hs.load(filename_vbf)\n",
    "    s_t = threshold_otsu(s_vbf.data)\n",
    "    s_mask = s_vbf > s_t\n",
    "\n",
    "    s_tmp1 = s_mask\n",
    "\n",
    "    s_tmp2 = 0\n",
    "\n",
    "    for i in range(number_of_binary_loops):\n",
    "        del s_tmp2\n",
    "        gc.collect()\n",
    "\n",
    "        s_tmp2 = s_tmp1.map(binary_dilation, inplace=False, show_progressbar=False)\n",
    "\n",
    "        del s_tmp1\n",
    "        gc.collect()\n",
    "\n",
    "        s_tmp1 = s_tmp2.map(binary_erosion, inplace=False, show_progressbar=False)\n",
    "\n",
    "    s_mask_5 = s_tmp1\n",
    "    \n",
    "    \n",
    "    \n",
    "    s_mask_5.data = np.invert(s_mask_5.data)\n",
    "\n",
    "    s_bs = hs.load(filename_bs)\n",
    "    s_bs_lp = s_bs.get_linear_plane(mask=s_mask_5)\n",
    "    s_bs_cor = s_bs - s_bs_lp\n",
    "    filename_output = filename_bs.replace(\"001_data\", \"002_cor_data_more\").replace(\".hspy\", \"_cor_more.hspy\")\n",
    "    filename_vbf = filename_vbf.replace(\"001_data\", \"002_cor_data_more\")\n",
    "    filename_dpcx = filename_bs.replace(\"001_data\", \"002_cor_data_more\").replace(\".hspy\", \"_dpcx_more.hspy\")\n",
    "    filename_dpcy = filename_bs.replace(\"001_data\", \"002_cor_data_more\").replace(\".hspy\", \"_dpcy_more.hspy\")\n",
    "    filename_mag = filename_bs.replace(\"001_data\", \"002_cor_data_more\").replace(\".hspy\", \"_mag_more.hspy\")\n",
    "    filename_mask_output = filename_vbf.replace(\"001_data\", \"002_cor_data\").replace(\".hspy\", \"_mask_more.hspy\")\n",
    "    s_bs_cor.save(filename_output, overwrite=True)\n",
    "    s_vbf.save(filename_vbf, overwrite=True)\n",
    "    s_bs_cor.isig[0].T.save(filename_dpcx, overwrite=True)\n",
    "    s_bs_cor.isig[1].T.save(filename_dpcy, overwrite=True)\n",
    "    s_bs_cor.get_magnitude_signal().save(filename_mag, overwrite=True)\n",
    "    s_mask_5.save(filename_mask_output, overwrite=True)"
   ]
  }
 ],
 "metadata": {
  "kernelspec": {
   "display_name": "Python 3.10.13 ('pyxem_2024')",
   "language": "python",
   "name": "python3"
  },
  "language_info": {
   "codemirror_mode": {
    "name": "ipython",
    "version": 3
   },
   "file_extension": ".py",
   "mimetype": "text/x-python",
   "name": "python",
   "nbconvert_exporter": "python",
   "pygments_lexer": "ipython3",
   "version": "3.10.13"
  },
  "vscode": {
   "interpreter": {
    "hash": "d6eae7f0df78b11becaf0334afd9cf9af5448918d87d6aeabe4aad3461cdb5b7"
   }
  }
 },
 "nbformat": 4,
 "nbformat_minor": 5
}
