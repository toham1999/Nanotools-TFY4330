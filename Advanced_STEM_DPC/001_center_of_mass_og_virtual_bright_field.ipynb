{
 "cells": [
  {
   "cell_type": "markdown",
   "id": "7f1a15fd-fb24-4e13-ac06-93a79285791e",
   "metadata": {},
   "source": [
    "# STEM-DPC dataprosessering: notebook 1\n",
    "\n",
    "Denne STEM-DPC dataprosesseringen er delt inn i 3 Jupyter Notebooks. Se de individuelle Jupyter Notebooks for mer informasjon:\n",
    "\n",
    "#### `001_center_of_mass_og_virtual_bright_field.ipynb`\n",
    "\n",
    "Prosesserer 4D-STEM-DPC datasetten \"lazy\", og lagrer to signal i :\n",
    "\n",
    "- Et `..._bs.hspy`, som er \"beam shift\". Denne blir regnet ut via center of mass, og gir magnetisk informasjon.\n",
    "- Et `..._vbf.hspy`, som er virtual bright field. Ergo en sum som viser geometrien til prøven. Denne skal vi bruke til å lage en \"maske\" for å gjøre bakgrunnsfjerningen bedre\n",
    "\n",
    "Denne trenger dere bare å kjøre en gang, siden den lagrer resultatene i `hspy`-filer. Dette er spesielt lurt for denne delen, siden prosesseringen tar litt tid.\n",
    "\n",
    "#### 002_bakgrunnsfjerning.ipynb\n",
    "\n",
    "Denne bruker `..._bs.hspy` og `..._vbf.hspy` som ble lagd av i denne notebooken (`001_...`), til å fjerne bakgrunnen i `..._bs.hspy`. Ergo, å prosessere det magnetiske STEM-DPC signalet.\n",
    "\n",
    "#### 003_plotte_data.ipynb\n",
    "\n",
    "Denne lager en figur av dataene, for å sjekke at prosesseringen har gått greit."
   ]
  },
  {
   "cell_type": "code",
   "execution_count": 5,
   "id": "5e5c8f3f-d023-4141-b86d-81d41935a213",
   "metadata": {},
   "outputs": [],
   "source": [
    "import hyperspy.api as hs\n",
    "import os"
   ]
  },
  {
   "cell_type": "code",
   "execution_count": 15,
   "id": "ca9ab28e",
   "metadata": {},
   "outputs": [
    {
     "name": "stdout",
     "output_type": "stream",
     "text": [
      "['structure1neg5deg.hspy', 'Av5_deg4.1.hspy', 'kompass_deg5.hspy', 'Ev5_deg9.9.hspy', 'kompass_deg-10.2.hspy', 'kompass_deg-3.hspy', 'Av5_deg9.8.hspy', 'Ev5_deg-10.2.hspy', 'Bv5_deg0.1.hspy', 'Ev5_deg4.7.hspy', 'Ev5_deg-0.3.hspy', 'Bv5_deg-10.2.hspy', 'Av5_deg-9.9.hspy', 'Bv5_deg5.1.hspy', 'Bv5_deg10.1.hspy', 'Ev5_deg-5.2.hspy', 'Bv5_deg-5.5.hspy']\n"
     ]
    }
   ],
   "source": [
    "# Specify the folder path\n",
    "folder_path = '/Users/toham1999/Koding/24H 5.semester/Nanoverktøy/Dataøving_3_tem/My_data_gr5/hyperspy_files_merlin/'\n",
    "\n",
    "# Get a list of all .hspy files in the folder\n",
    "filename_list = [f for f in os.listdir(folder_path) if os.path.isfile(os.path.join(folder_path, f)) and f.endswith('.hspy')]\n",
    "print(filename_list)"
   ]
  },
  {
   "cell_type": "code",
   "execution_count": 14,
   "id": "60944bbc-c870-4d7a-86f0-cc4da09ac0e7",
   "metadata": {},
   "outputs": [
    {
     "name": "stdout",
     "output_type": "stream",
     "text": [
      "[########################################] | 100% Completed | 9.68 ss\n",
      "[########################################] | 100% Completed | 21.15 s\n",
      "[########################################] | 100% Completed | 9.91 ss\n",
      "[########################################] | 100% Completed | 19.93 s\n",
      "[########################################] | 100% Completed | 9.80 ss\n",
      "[########################################] | 100% Completed | 19.66 s\n",
      "[########################################] | 100% Completed | 9.70 ss\n",
      "[########################################] | 100% Completed | 19.25 s\n",
      "[########################################] | 100% Completed | 9.91 ss\n",
      "[########################################] | 100% Completed | 19.37 s\n",
      "[########################################] | 100% Completed | 9.82 ss\n",
      "[########################################] | 100% Completed | 20.17 s\n",
      "[########################################] | 100% Completed | 11.80 s\n",
      "[########################################] | 100% Completed | 19.55 s\n",
      "[########################################] | 100% Completed | 9.90 ss\n",
      "[########################################] | 100% Completed | 21.51 s\n",
      "[########################################] | 100% Completed | 10.51 s\n",
      "[########################################] | 100% Completed | 22.12 s\n",
      "[########################################] | 100% Completed | 13.36 s\n",
      "[########################################] | 100% Completed | 17.64 s\n",
      "[########################################] | 100% Completed | 10.06 s\n",
      "[########################################] | 100% Completed | 15.71 s\n",
      "[########################################] | 100% Completed | 9.75 ss\n",
      "[########################################] | 100% Completed | 15.02 s\n",
      "[########################################] | 100% Completed | 10.11 s\n",
      "[########################################] | 100% Completed | 15.31 s\n",
      "[########################################] | 100% Completed | 9.74 ss\n",
      "[########################################] | 100% Completed | 15.07 s\n",
      "[########################################] | 100% Completed | 10.13 s\n",
      "[########################################] | 100% Completed | 15.08 s\n",
      "[########################################] | 100% Completed | 9.95 ss\n",
      "[########################################] | 100% Completed | 14.99 s\n",
      "[########################################] | 100% Completed | 10.00 s\n",
      "[########################################] | 100% Completed | 15.06 s\n"
     ]
    }
   ],
   "source": [
    "for filename in filename_list:\n",
    "    s = hs.load(folder_path + filename, lazy=True)\n",
    "    s_vbf = s.sum(axis=(-1, -2)).T\n",
    "    s_bs = s.get_direct_beam_position(method=\"center_of_mass\")\n",
    "    del s_bs.metadata.Shifts.signal_axes\n",
    "    s_vbf.compute()\n",
    "    s_bs.compute()\n",
    "    s_vbf.change_dtype(\"float64\")\n",
    "    s_bs.change_dtype(\"float64\")\n",
    "    s_vbf.save(\"001_data/\" + filename.replace(\".hspy\", \"_vbf.hspy\"), overwrite=True)\n",
    "    s_bs.save(\"001_data/\" + filename.replace(\".hspy\", \"_bs.hspy\"), overwrite=True)"
   ]
  }
 ],
 "metadata": {
  "kernelspec": {
   "display_name": "Python 3.10.13 ('pyxem_2024')",
   "language": "python",
   "name": "python3"
  },
  "language_info": {
   "codemirror_mode": {
    "name": "ipython",
    "version": 3
   },
   "file_extension": ".py",
   "mimetype": "text/x-python",
   "name": "python",
   "nbconvert_exporter": "python",
   "pygments_lexer": "ipython3",
   "version": "3.10.13"
  },
  "vscode": {
   "interpreter": {
    "hash": "d6eae7f0df78b11becaf0334afd9cf9af5448918d87d6aeabe4aad3461cdb5b7"
   }
  }
 },
 "nbformat": 4,
 "nbformat_minor": 5
}
